{
  "nbformat": 4,
  "nbformat_minor": 0,
  "metadata": {
    "colab": {
      "name": "eda.ipynb",
      "provenance": [],
      "toc_visible": true,
      "authorship_tag": "ABX9TyMN2i4DuDPq7Y7xv7jR1/mL",
      "include_colab_link": true
    },
    "kernelspec": {
      "name": "python3",
      "display_name": "Python 3"
    }
  },
  "cells": [
    {
      "cell_type": "markdown",
      "metadata": {
        "id": "view-in-github",
        "colab_type": "text"
      },
      "source": [
        "<a href=\"https://colab.research.google.com/github/Shogo-dayo/WebTour/blob/main/eda.ipynb\" target=\"_parent\"><img src=\"https://colab.research.google.com/assets/colab-badge.svg\" alt=\"Open In Colab\"/></a>"
      ]
    },
    {
      "cell_type": "markdown",
      "metadata": {
        "id": "BHueaHSu_tNq"
      },
      "source": [
        "# Data Description"
      ]
    },
    {
      "cell_type": "markdown",
      "metadata": {
        "id": "50fBKwRH_SBO"
      },
      "source": [
        "*   user_id - User ID (ユーザID)\n",
        "*   check-in - Reservation check-in date（チェックイン）\n",
        "*   checkout - Reservation check-out date（チェックアウト）\n",
        "*   affiliate_id - An anonymized ID of affiliate channels where the booker came from (e.g. direct, some third party referrals, paid search engine, etc.)　（どこのサイトから飛んできたのか）\n",
        "*   device_class - desktop/mobile (どのデバイスから)\n",
        "*   booker_country - Country from which the reservation was made (anonymized) (旅行者の出身国)\n",
        "*   hotel_country - Country of the hotel (anonymized)　（ホテルのある国）\n",
        "*   city_id - city_id of the hotel’s city (anonymized)　（ホテルがある市のid）　-> 　これを予測する\n",
        "*   utrip_id - Unique identification of user’s trip (a group of multi-destinations bookings within the same trip) -> そのユーザの何回目の旅行なのか\n",
        "\n",
        "予約のチエックアウト日は，その旅行の次の予約のチェックイン数\n",
        "\n",
        "\n",
        "\n",
        "\n",
        "\n"
      ]
    },
    {
      "cell_type": "markdown",
      "metadata": {
        "id": "euU_Mo2tACer"
      },
      "source": [
        "# Goal"
      ]
    },
    {
      "cell_type": "markdown",
      "metadata": {
        "id": "tc46JZUKAECG"
      },
      "source": [
        "The goal of the challenge is to predict (and recommend) the final city (city_id) of each trip (utrip_id). We will evaluate the quality of the predictions based on the top four recommended cities for each trip by using Precision@4 metric (4 representing the four suggestion slots at Booking.com website). When the true city is one of the top 4 suggestions (regardless of the order), it is considered correct."
      ]
    },
    {
      "cell_type": "markdown",
      "metadata": {
        "id": "hOKwCOAKAVpm"
      },
      "source": [
        "上位4つの都市を出力して，その中の実際の旅行先が入っているを正解"
      ]
    },
    {
      "cell_type": "code",
      "metadata": {
        "id": "PtDdSKKdAUzm"
      },
      "source": [
        ""
      ],
      "execution_count": null,
      "outputs": []
    },
    {
      "cell_type": "code",
      "metadata": {
        "colab": {
          "base_uri": "https://localhost:8080/"
        },
        "id": "9vJOPDyq7nFK",
        "outputId": "20186db4-6912-4e12-b1c6-7646c15f3b99"
      },
      "source": [
        "from google import colab\n",
        "colab.drive.mount('/content/drive')"
      ],
      "execution_count": null,
      "outputs": [
        {
          "output_type": "stream",
          "text": [
            "Drive already mounted at /content/drive; to attempt to forcibly remount, call drive.mount(\"/content/drive\", force_remount=True).\n"
          ],
          "name": "stdout"
        }
      ]
    },
    {
      "cell_type": "code",
      "metadata": {
        "id": "1789khLL7pH1"
      },
      "source": [
        "import matplotlib as mpl\n",
        "mpl.use('Agg')\n",
        "\n",
        "\n",
        "import numpy as np\n",
        "import datetime as dt\n",
        "import matplotlib.pyplot as plt\n",
        "import seaborn as sns\n",
        "from matplotlib.pylab import rcParams\n",
        "import pandas as pd\n",
        "from datetime import timedelta\n",
        "import sys\n",
        "import time\n",
        "import glob\n",
        "import datetime\n",
        "\n",
        "from sklearn.cluster import KMeans\n",
        "import scipy.stats\n",
        "from sklearn.preprocessing import MinMaxScaler\n",
        "from sklearn.metrics import silhouette_samples\n",
        "from sklearn import datasets\n",
        "%matplotlib inline\n",
        "import os\n",
        "from sklearn.preprocessing import LabelBinarizer\n",
        "\n",
        "\n",
        "from sklearn.preprocessing import LabelBinarizer\n",
        "from sklearn import preprocessing"
      ],
      "execution_count": null,
      "outputs": []
    },
    {
      "cell_type": "markdown",
      "metadata": {
        "id": "UZAkH42J_wnM"
      },
      "source": [
        "# Data Analytics"
      ]
    },
    {
      "cell_type": "code",
      "metadata": {
        "id": "i0diuPGh9R7j"
      },
      "source": [
        "input_path = '/content/drive/My Drive/CompeData/WebTour/booking_train_set.csv'\n",
        "df = pd.read_csv(input_path)"
      ],
      "execution_count": null,
      "outputs": []
    },
    {
      "cell_type": "code",
      "metadata": {
        "id": "7eTu6Elj-D0i"
      },
      "source": [
        "df.drop(\"Unnamed: 0\",axis=1,inplace=True)"
      ],
      "execution_count": null,
      "outputs": []
    },
    {
      "cell_type": "code",
      "metadata": {
        "colab": {
          "base_uri": "https://localhost:8080/",
          "height": 202
        },
        "id": "DNJT4Z5u84MM",
        "outputId": "d1838c1a-28b4-4e46-979b-e37ad24bcb6c"
      },
      "source": [
        "df.head(5)"
      ],
      "execution_count": null,
      "outputs": [
        {
          "output_type": "execute_result",
          "data": {
            "text/html": [
              "<div>\n",
              "<style scoped>\n",
              "    .dataframe tbody tr th:only-of-type {\n",
              "        vertical-align: middle;\n",
              "    }\n",
              "\n",
              "    .dataframe tbody tr th {\n",
              "        vertical-align: top;\n",
              "    }\n",
              "\n",
              "    .dataframe thead th {\n",
              "        text-align: right;\n",
              "    }\n",
              "</style>\n",
              "<table border=\"1\" class=\"dataframe\">\n",
              "  <thead>\n",
              "    <tr style=\"text-align: right;\">\n",
              "      <th></th>\n",
              "      <th>user_id</th>\n",
              "      <th>checkin</th>\n",
              "      <th>checkout</th>\n",
              "      <th>city_id</th>\n",
              "      <th>device_class</th>\n",
              "      <th>affiliate_id</th>\n",
              "      <th>booker_country</th>\n",
              "      <th>hotel_country</th>\n",
              "      <th>utrip_id</th>\n",
              "    </tr>\n",
              "  </thead>\n",
              "  <tbody>\n",
              "    <tr>\n",
              "      <th>0</th>\n",
              "      <td>1006220</td>\n",
              "      <td>2016-04-09</td>\n",
              "      <td>2016-04-11</td>\n",
              "      <td>31114</td>\n",
              "      <td>desktop</td>\n",
              "      <td>384</td>\n",
              "      <td>Gondal</td>\n",
              "      <td>Gondal</td>\n",
              "      <td>1006220_1</td>\n",
              "    </tr>\n",
              "    <tr>\n",
              "      <th>1</th>\n",
              "      <td>1006220</td>\n",
              "      <td>2016-04-11</td>\n",
              "      <td>2016-04-12</td>\n",
              "      <td>39641</td>\n",
              "      <td>desktop</td>\n",
              "      <td>384</td>\n",
              "      <td>Gondal</td>\n",
              "      <td>Gondal</td>\n",
              "      <td>1006220_1</td>\n",
              "    </tr>\n",
              "    <tr>\n",
              "      <th>2</th>\n",
              "      <td>1006220</td>\n",
              "      <td>2016-04-12</td>\n",
              "      <td>2016-04-16</td>\n",
              "      <td>20232</td>\n",
              "      <td>desktop</td>\n",
              "      <td>384</td>\n",
              "      <td>Gondal</td>\n",
              "      <td>Glubbdubdrib</td>\n",
              "      <td>1006220_1</td>\n",
              "    </tr>\n",
              "    <tr>\n",
              "      <th>3</th>\n",
              "      <td>1006220</td>\n",
              "      <td>2016-04-16</td>\n",
              "      <td>2016-04-17</td>\n",
              "      <td>24144</td>\n",
              "      <td>desktop</td>\n",
              "      <td>384</td>\n",
              "      <td>Gondal</td>\n",
              "      <td>Gondal</td>\n",
              "      <td>1006220_1</td>\n",
              "    </tr>\n",
              "    <tr>\n",
              "      <th>4</th>\n",
              "      <td>1010293</td>\n",
              "      <td>2016-07-09</td>\n",
              "      <td>2016-07-10</td>\n",
              "      <td>5325</td>\n",
              "      <td>mobile</td>\n",
              "      <td>359</td>\n",
              "      <td>The Devilfire Empire</td>\n",
              "      <td>Cobra Island</td>\n",
              "      <td>1010293_1</td>\n",
              "    </tr>\n",
              "  </tbody>\n",
              "</table>\n",
              "</div>"
            ],
            "text/plain": [
              "   user_id     checkin  ... hotel_country   utrip_id\n",
              "0  1006220  2016-04-09  ...        Gondal  1006220_1\n",
              "1  1006220  2016-04-11  ...        Gondal  1006220_1\n",
              "2  1006220  2016-04-12  ...  Glubbdubdrib  1006220_1\n",
              "3  1006220  2016-04-16  ...        Gondal  1006220_1\n",
              "4  1010293  2016-07-09  ...  Cobra Island  1010293_1\n",
              "\n",
              "[5 rows x 9 columns]"
            ]
          },
          "metadata": {
            "tags": []
          },
          "execution_count": 6
        }
      ]
    },
    {
      "cell_type": "code",
      "metadata": {
        "colab": {
          "base_uri": "https://localhost:8080/"
        },
        "id": "yqxKfaKX-Rn8",
        "outputId": "7452ba11-5ae6-4a01-b309-8988d9c14850"
      },
      "source": [
        "df.info()"
      ],
      "execution_count": null,
      "outputs": [
        {
          "output_type": "stream",
          "text": [
            "<class 'pandas.core.frame.DataFrame'>\n",
            "RangeIndex: 1166835 entries, 0 to 1166834\n",
            "Data columns (total 9 columns):\n",
            " #   Column          Non-Null Count    Dtype \n",
            "---  ------          --------------    ----- \n",
            " 0   user_id         1166835 non-null  int64 \n",
            " 1   checkin         1166835 non-null  object\n",
            " 2   checkout        1166835 non-null  object\n",
            " 3   city_id         1166835 non-null  int64 \n",
            " 4   device_class    1166835 non-null  object\n",
            " 5   affiliate_id    1166835 non-null  int64 \n",
            " 6   booker_country  1166835 non-null  object\n",
            " 7   hotel_country   1166835 non-null  object\n",
            " 8   utrip_id        1166835 non-null  object\n",
            "dtypes: int64(3), object(6)\n",
            "memory usage: 80.1+ MB\n"
          ],
          "name": "stdout"
        }
      ]
    },
    {
      "cell_type": "code",
      "metadata": {
        "colab": {
          "base_uri": "https://localhost:8080/"
        },
        "id": "vNZFtu32-Vlk",
        "outputId": "6b1d5fb4-e895-4b64-d18d-c6fbfd4297e1"
      },
      "source": [
        "print('There are {} rows and {} columns in df'.format(df.shape[0], df.shape[1]))"
      ],
      "execution_count": null,
      "outputs": [
        {
          "output_type": "stream",
          "text": [
            "There are 1166835 rows and 9 columns in df\n"
          ],
          "name": "stdout"
        }
      ]
    },
    {
      "cell_type": "code",
      "metadata": {
        "colab": {
          "base_uri": "https://localhost:8080/"
        },
        "id": "WMEDUP0o-gnJ",
        "outputId": "9017483e-0aa1-464d-e08b-fab04dd02ac5"
      },
      "source": [
        "df.isnull().sum()"
      ],
      "execution_count": null,
      "outputs": [
        {
          "output_type": "execute_result",
          "data": {
            "text/plain": [
              "user_id           0\n",
              "checkin           0\n",
              "checkout          0\n",
              "city_id           0\n",
              "device_class      0\n",
              "affiliate_id      0\n",
              "booker_country    0\n",
              "hotel_country     0\n",
              "utrip_id          0\n",
              "dtype: int64"
            ]
          },
          "metadata": {
            "tags": []
          },
          "execution_count": 9
        }
      ]
    },
    {
      "cell_type": "markdown",
      "metadata": {
        "id": "UVQn0MZ_-p_9"
      },
      "source": [
        "## Numeric Data(数値データ)"
      ]
    },
    {
      "cell_type": "code",
      "metadata": {
        "id": "V9qp_3NJ-kWC"
      },
      "source": [
        "# df.hist(bins=50, figsize=(20,15))\n",
        "# plt.show()"
      ],
      "execution_count": null,
      "outputs": []
    },
    {
      "cell_type": "markdown",
      "metadata": {
        "id": "xkl6ea0m-_6c"
      },
      "source": [
        "### user_id"
      ]
    },
    {
      "cell_type": "markdown",
      "metadata": {
        "id": "3A4399iX_FzH"
      },
      "source": [
        "#### 各ユーザごとのチェックイン数を把握"
      ]
    },
    {
      "cell_type": "code",
      "metadata": {
        "colab": {
          "base_uri": "https://localhost:8080/"
        },
        "id": "iBE-60nn-w7C",
        "outputId": "9decb245-9c51-4db6-ee28-c0e17c54b2a2"
      },
      "source": [
        "uniq_user_count = df['user_id'].value_counts()\n",
        "print(uniq_user_count)"
      ],
      "execution_count": null,
      "outputs": [
        {
          "output_type": "stream",
          "text": [
            "2209265    172\n",
            "870848     137\n",
            "3635431    123\n",
            "362194     102\n",
            "5819402     94\n",
            "          ... \n",
            "4019208      1\n",
            "255680       1\n",
            "3164490      1\n",
            "849117       1\n",
            "1144248      1\n",
            "Name: user_id, Length: 200153, dtype: int64\n"
          ],
          "name": "stdout"
        }
      ]
    },
    {
      "cell_type": "markdown",
      "metadata": {
        "id": "x6tWGxF0A3sE"
      },
      "source": [
        "#### 各都市ごとのチェックイン数"
      ]
    },
    {
      "cell_type": "code",
      "metadata": {
        "colab": {
          "base_uri": "https://localhost:8080/"
        },
        "id": "t1oK44tq_Cfw",
        "outputId": "b3465814-d58e-49ed-ed46-aa9492fa317c"
      },
      "source": [
        "uniq_cityid_count = df['city_id'].value_counts()\n",
        "uniq_cityid_count"
      ],
      "execution_count": null,
      "outputs": [
        {
          "output_type": "execute_result",
          "data": {
            "text/plain": [
              "47499    11242\n",
              "23921    10511\n",
              "36063     9559\n",
              "17013     9011\n",
              "29319     8179\n",
              "         ...  \n",
              "42494        1\n",
              "44543        1\n",
              "65995        1\n",
              "23008        1\n",
              "2049         1\n",
              "Name: city_id, Length: 39901, dtype: int64"
            ]
          },
          "metadata": {
            "tags": []
          },
          "execution_count": 12
        }
      ]
    },
    {
      "cell_type": "markdown",
      "metadata": {
        "id": "1T1v4DtbBEgm"
      },
      "source": [
        "#### affiliate id（Booking.com自体から来たのか，広告などから飛んで予約しに来たのか）ごとのカウント"
      ]
    },
    {
      "cell_type": "code",
      "metadata": {
        "colab": {
          "base_uri": "https://localhost:8080/"
        },
        "id": "MChUNS5vAw03",
        "outputId": "5aacb848-29af-4822-a76c-276f94c80fa0"
      },
      "source": [
        "uniq_affiliateid_count = df['affiliate_id'].value_counts()\n",
        "uniq_affiliateid_count"
      ],
      "execution_count": null,
      "outputs": [
        {
          "output_type": "execute_result",
          "data": {
            "text/plain": [
              "9924     277775\n",
              "359      171385\n",
              "384       88137\n",
              "9452      85476\n",
              "4541      41504\n",
              "          ...  \n",
              "8351          1\n",
              "8464          1\n",
              "2202          1\n",
              "10513         1\n",
              "2047          1\n",
              "Name: affiliate_id, Length: 3254, dtype: int64"
            ]
          },
          "metadata": {
            "tags": []
          },
          "execution_count": 13
        }
      ]
    },
    {
      "cell_type": "code",
      "metadata": {
        "id": "JnN8Vu2-A2eY"
      },
      "source": [
        ""
      ],
      "execution_count": null,
      "outputs": []
    },
    {
      "cell_type": "markdown",
      "metadata": {
        "id": "Q3jxV2pxBuww"
      },
      "source": [
        "## object Data"
      ]
    },
    {
      "cell_type": "code",
      "metadata": {
        "id": "URcjkoPTBxBA"
      },
      "source": [
        "df[\"checkin\"] = pd.to_datetime(df[\"checkin\"])\n",
        "df[\"checkout\"] = pd.to_datetime(df[\"checkout\"])"
      ],
      "execution_count": null,
      "outputs": []
    },
    {
      "cell_type": "code",
      "metadata": {
        "id": "xzJsEYMpB5mN"
      },
      "source": [
        "df[\"stay\"] = df[\"checkout\"] - df[\"checkin\"]"
      ],
      "execution_count": null,
      "outputs": []
    },
    {
      "cell_type": "code",
      "metadata": {
        "colab": {
          "base_uri": "https://localhost:8080/",
          "height": 969
        },
        "id": "c9LWKQi4CBXP",
        "outputId": "b9180807-21c8-4aec-84fe-6e7e232347d9"
      },
      "source": [
        "df.head(30)"
      ],
      "execution_count": null,
      "outputs": [
        {
          "output_type": "execute_result",
          "data": {
            "text/html": [
              "<div>\n",
              "<style scoped>\n",
              "    .dataframe tbody tr th:only-of-type {\n",
              "        vertical-align: middle;\n",
              "    }\n",
              "\n",
              "    .dataframe tbody tr th {\n",
              "        vertical-align: top;\n",
              "    }\n",
              "\n",
              "    .dataframe thead th {\n",
              "        text-align: right;\n",
              "    }\n",
              "</style>\n",
              "<table border=\"1\" class=\"dataframe\">\n",
              "  <thead>\n",
              "    <tr style=\"text-align: right;\">\n",
              "      <th></th>\n",
              "      <th>user_id</th>\n",
              "      <th>checkin</th>\n",
              "      <th>checkout</th>\n",
              "      <th>city_id</th>\n",
              "      <th>device_class</th>\n",
              "      <th>affiliate_id</th>\n",
              "      <th>booker_country</th>\n",
              "      <th>hotel_country</th>\n",
              "      <th>utrip_id</th>\n",
              "      <th>stay</th>\n",
              "    </tr>\n",
              "  </thead>\n",
              "  <tbody>\n",
              "    <tr>\n",
              "      <th>0</th>\n",
              "      <td>1006220</td>\n",
              "      <td>2016-04-09</td>\n",
              "      <td>2016-04-11</td>\n",
              "      <td>31114</td>\n",
              "      <td>desktop</td>\n",
              "      <td>384</td>\n",
              "      <td>Gondal</td>\n",
              "      <td>Gondal</td>\n",
              "      <td>1006220_1</td>\n",
              "      <td>2 days</td>\n",
              "    </tr>\n",
              "    <tr>\n",
              "      <th>1</th>\n",
              "      <td>1006220</td>\n",
              "      <td>2016-04-11</td>\n",
              "      <td>2016-04-12</td>\n",
              "      <td>39641</td>\n",
              "      <td>desktop</td>\n",
              "      <td>384</td>\n",
              "      <td>Gondal</td>\n",
              "      <td>Gondal</td>\n",
              "      <td>1006220_1</td>\n",
              "      <td>1 days</td>\n",
              "    </tr>\n",
              "    <tr>\n",
              "      <th>2</th>\n",
              "      <td>1006220</td>\n",
              "      <td>2016-04-12</td>\n",
              "      <td>2016-04-16</td>\n",
              "      <td>20232</td>\n",
              "      <td>desktop</td>\n",
              "      <td>384</td>\n",
              "      <td>Gondal</td>\n",
              "      <td>Glubbdubdrib</td>\n",
              "      <td>1006220_1</td>\n",
              "      <td>4 days</td>\n",
              "    </tr>\n",
              "    <tr>\n",
              "      <th>3</th>\n",
              "      <td>1006220</td>\n",
              "      <td>2016-04-16</td>\n",
              "      <td>2016-04-17</td>\n",
              "      <td>24144</td>\n",
              "      <td>desktop</td>\n",
              "      <td>384</td>\n",
              "      <td>Gondal</td>\n",
              "      <td>Gondal</td>\n",
              "      <td>1006220_1</td>\n",
              "      <td>1 days</td>\n",
              "    </tr>\n",
              "    <tr>\n",
              "      <th>4</th>\n",
              "      <td>1010293</td>\n",
              "      <td>2016-07-09</td>\n",
              "      <td>2016-07-10</td>\n",
              "      <td>5325</td>\n",
              "      <td>mobile</td>\n",
              "      <td>359</td>\n",
              "      <td>The Devilfire Empire</td>\n",
              "      <td>Cobra Island</td>\n",
              "      <td>1010293_1</td>\n",
              "      <td>1 days</td>\n",
              "    </tr>\n",
              "    <tr>\n",
              "      <th>5</th>\n",
              "      <td>1010293</td>\n",
              "      <td>2016-07-10</td>\n",
              "      <td>2016-07-11</td>\n",
              "      <td>55</td>\n",
              "      <td>mobile</td>\n",
              "      <td>359</td>\n",
              "      <td>The Devilfire Empire</td>\n",
              "      <td>Cobra Island</td>\n",
              "      <td>1010293_1</td>\n",
              "      <td>1 days</td>\n",
              "    </tr>\n",
              "    <tr>\n",
              "      <th>6</th>\n",
              "      <td>1010293</td>\n",
              "      <td>2016-07-12</td>\n",
              "      <td>2016-07-13</td>\n",
              "      <td>23921</td>\n",
              "      <td>mobile</td>\n",
              "      <td>359</td>\n",
              "      <td>The Devilfire Empire</td>\n",
              "      <td>Cobra Island</td>\n",
              "      <td>1010293_1</td>\n",
              "      <td>1 days</td>\n",
              "    </tr>\n",
              "    <tr>\n",
              "      <th>7</th>\n",
              "      <td>1010293</td>\n",
              "      <td>2016-07-13</td>\n",
              "      <td>2016-07-15</td>\n",
              "      <td>65322</td>\n",
              "      <td>desktop</td>\n",
              "      <td>9924</td>\n",
              "      <td>The Devilfire Empire</td>\n",
              "      <td>Cobra Island</td>\n",
              "      <td>1010293_1</td>\n",
              "      <td>2 days</td>\n",
              "    </tr>\n",
              "    <tr>\n",
              "      <th>8</th>\n",
              "      <td>1010293</td>\n",
              "      <td>2016-07-15</td>\n",
              "      <td>2016-07-16</td>\n",
              "      <td>23921</td>\n",
              "      <td>desktop</td>\n",
              "      <td>9924</td>\n",
              "      <td>The Devilfire Empire</td>\n",
              "      <td>Cobra Island</td>\n",
              "      <td>1010293_1</td>\n",
              "      <td>1 days</td>\n",
              "    </tr>\n",
              "    <tr>\n",
              "      <th>9</th>\n",
              "      <td>1010293</td>\n",
              "      <td>2016-07-16</td>\n",
              "      <td>2016-07-17</td>\n",
              "      <td>20545</td>\n",
              "      <td>desktop</td>\n",
              "      <td>10573</td>\n",
              "      <td>The Devilfire Empire</td>\n",
              "      <td>Cobra Island</td>\n",
              "      <td>1010293_1</td>\n",
              "      <td>1 days</td>\n",
              "    </tr>\n",
              "    <tr>\n",
              "      <th>10</th>\n",
              "      <td>1012680</td>\n",
              "      <td>2016-10-23</td>\n",
              "      <td>2016-10-25</td>\n",
              "      <td>37709</td>\n",
              "      <td>desktop</td>\n",
              "      <td>384</td>\n",
              "      <td>Gondal</td>\n",
              "      <td>Yerba</td>\n",
              "      <td>1012680_1</td>\n",
              "      <td>2 days</td>\n",
              "    </tr>\n",
              "    <tr>\n",
              "      <th>11</th>\n",
              "      <td>1012680</td>\n",
              "      <td>2016-10-25</td>\n",
              "      <td>2016-10-27</td>\n",
              "      <td>11837</td>\n",
              "      <td>desktop</td>\n",
              "      <td>384</td>\n",
              "      <td>Gondal</td>\n",
              "      <td>Panem</td>\n",
              "      <td>1012680_1</td>\n",
              "      <td>2 days</td>\n",
              "    </tr>\n",
              "    <tr>\n",
              "      <th>12</th>\n",
              "      <td>1012680</td>\n",
              "      <td>2016-10-27</td>\n",
              "      <td>2016-10-30</td>\n",
              "      <td>19626</td>\n",
              "      <td>desktop</td>\n",
              "      <td>384</td>\n",
              "      <td>Gondal</td>\n",
              "      <td>Yerba</td>\n",
              "      <td>1012680_1</td>\n",
              "      <td>3 days</td>\n",
              "    </tr>\n",
              "    <tr>\n",
              "      <th>13</th>\n",
              "      <td>1012680</td>\n",
              "      <td>2016-10-30</td>\n",
              "      <td>2016-11-02</td>\n",
              "      <td>62270</td>\n",
              "      <td>desktop</td>\n",
              "      <td>384</td>\n",
              "      <td>Gondal</td>\n",
              "      <td>Yerba</td>\n",
              "      <td>1012680_1</td>\n",
              "      <td>3 days</td>\n",
              "    </tr>\n",
              "    <tr>\n",
              "      <th>14</th>\n",
              "      <td>1017326</td>\n",
              "      <td>2016-04-30</td>\n",
              "      <td>2016-05-01</td>\n",
              "      <td>1979</td>\n",
              "      <td>mobile</td>\n",
              "      <td>9924</td>\n",
              "      <td>Gondal</td>\n",
              "      <td>Kangan</td>\n",
              "      <td>1017326_1</td>\n",
              "      <td>1 days</td>\n",
              "    </tr>\n",
              "    <tr>\n",
              "      <th>15</th>\n",
              "      <td>1017326</td>\n",
              "      <td>2016-05-01</td>\n",
              "      <td>2016-05-03</td>\n",
              "      <td>3531</td>\n",
              "      <td>mobile</td>\n",
              "      <td>9924</td>\n",
              "      <td>Gondal</td>\n",
              "      <td>Kangan</td>\n",
              "      <td>1017326_1</td>\n",
              "      <td>2 days</td>\n",
              "    </tr>\n",
              "    <tr>\n",
              "      <th>16</th>\n",
              "      <td>1017326</td>\n",
              "      <td>2016-05-03</td>\n",
              "      <td>2016-05-04</td>\n",
              "      <td>55529</td>\n",
              "      <td>mobile</td>\n",
              "      <td>9924</td>\n",
              "      <td>Gondal</td>\n",
              "      <td>Kangan</td>\n",
              "      <td>1017326_1</td>\n",
              "      <td>1 days</td>\n",
              "    </tr>\n",
              "    <tr>\n",
              "      <th>17</th>\n",
              "      <td>1017326</td>\n",
              "      <td>2016-05-04</td>\n",
              "      <td>2016-05-05</td>\n",
              "      <td>5860</td>\n",
              "      <td>mobile</td>\n",
              "      <td>9924</td>\n",
              "      <td>Gondal</td>\n",
              "      <td>Kangan</td>\n",
              "      <td>1017326_1</td>\n",
              "      <td>1 days</td>\n",
              "    </tr>\n",
              "    <tr>\n",
              "      <th>18</th>\n",
              "      <td>1024544</td>\n",
              "      <td>2016-08-02</td>\n",
              "      <td>2016-08-03</td>\n",
              "      <td>50957</td>\n",
              "      <td>tablet</td>\n",
              "      <td>3631</td>\n",
              "      <td>The Devilfire Empire</td>\n",
              "      <td>Borginia</td>\n",
              "      <td>1024544_2</td>\n",
              "      <td>1 days</td>\n",
              "    </tr>\n",
              "    <tr>\n",
              "      <th>19</th>\n",
              "      <td>1024544</td>\n",
              "      <td>2016-08-03</td>\n",
              "      <td>2016-08-05</td>\n",
              "      <td>60222</td>\n",
              "      <td>desktop</td>\n",
              "      <td>9924</td>\n",
              "      <td>The Devilfire Empire</td>\n",
              "      <td>Borginia</td>\n",
              "      <td>1024544_2</td>\n",
              "      <td>2 days</td>\n",
              "    </tr>\n",
              "    <tr>\n",
              "      <th>20</th>\n",
              "      <td>1024544</td>\n",
              "      <td>2016-08-05</td>\n",
              "      <td>2016-08-06</td>\n",
              "      <td>23612</td>\n",
              "      <td>tablet</td>\n",
              "      <td>3631</td>\n",
              "      <td>The Devilfire Empire</td>\n",
              "      <td>Borginia</td>\n",
              "      <td>1024544_2</td>\n",
              "      <td>1 days</td>\n",
              "    </tr>\n",
              "    <tr>\n",
              "      <th>21</th>\n",
              "      <td>1024544</td>\n",
              "      <td>2016-08-06</td>\n",
              "      <td>2016-08-09</td>\n",
              "      <td>17013</td>\n",
              "      <td>desktop</td>\n",
              "      <td>9924</td>\n",
              "      <td>The Devilfire Empire</td>\n",
              "      <td>Borginia</td>\n",
              "      <td>1024544_2</td>\n",
              "      <td>3 days</td>\n",
              "    </tr>\n",
              "    <tr>\n",
              "      <th>22</th>\n",
              "      <td>1024544</td>\n",
              "      <td>2016-08-09</td>\n",
              "      <td>2016-08-10</td>\n",
              "      <td>46794</td>\n",
              "      <td>tablet</td>\n",
              "      <td>3631</td>\n",
              "      <td>The Devilfire Empire</td>\n",
              "      <td>Lilliput</td>\n",
              "      <td>1024544_2</td>\n",
              "      <td>1 days</td>\n",
              "    </tr>\n",
              "    <tr>\n",
              "      <th>23</th>\n",
              "      <td>103011</td>\n",
              "      <td>2016-08-10</td>\n",
              "      <td>2016-08-11</td>\n",
              "      <td>12884</td>\n",
              "      <td>desktop</td>\n",
              "      <td>774</td>\n",
              "      <td>Elbonia</td>\n",
              "      <td>Pokrovia</td>\n",
              "      <td>103011_1</td>\n",
              "      <td>1 days</td>\n",
              "    </tr>\n",
              "    <tr>\n",
              "      <th>24</th>\n",
              "      <td>103011</td>\n",
              "      <td>2016-08-11</td>\n",
              "      <td>2016-08-14</td>\n",
              "      <td>40875</td>\n",
              "      <td>desktop</td>\n",
              "      <td>9924</td>\n",
              "      <td>Elbonia</td>\n",
              "      <td>Pokrovia</td>\n",
              "      <td>103011_1</td>\n",
              "      <td>3 days</td>\n",
              "    </tr>\n",
              "    <tr>\n",
              "      <th>25</th>\n",
              "      <td>103011</td>\n",
              "      <td>2016-08-14</td>\n",
              "      <td>2016-08-16</td>\n",
              "      <td>66657</td>\n",
              "      <td>desktop</td>\n",
              "      <td>9924</td>\n",
              "      <td>Elbonia</td>\n",
              "      <td>Pokrovia</td>\n",
              "      <td>103011_1</td>\n",
              "      <td>2 days</td>\n",
              "    </tr>\n",
              "    <tr>\n",
              "      <th>26</th>\n",
              "      <td>103011</td>\n",
              "      <td>2016-08-16</td>\n",
              "      <td>2016-08-17</td>\n",
              "      <td>33667</td>\n",
              "      <td>desktop</td>\n",
              "      <td>9924</td>\n",
              "      <td>Elbonia</td>\n",
              "      <td>Pokrovia</td>\n",
              "      <td>103011_1</td>\n",
              "      <td>1 days</td>\n",
              "    </tr>\n",
              "    <tr>\n",
              "      <th>27</th>\n",
              "      <td>1032262</td>\n",
              "      <td>2016-07-31</td>\n",
              "      <td>2016-08-02</td>\n",
              "      <td>62185</td>\n",
              "      <td>desktop</td>\n",
              "      <td>8436</td>\n",
              "      <td>Gondal</td>\n",
              "      <td>Axphain</td>\n",
              "      <td>1032262_2</td>\n",
              "      <td>2 days</td>\n",
              "    </tr>\n",
              "    <tr>\n",
              "      <th>28</th>\n",
              "      <td>1032262</td>\n",
              "      <td>2016-08-02</td>\n",
              "      <td>2016-08-03</td>\n",
              "      <td>17568</td>\n",
              "      <td>desktop</td>\n",
              "      <td>8161</td>\n",
              "      <td>Gondal</td>\n",
              "      <td>Axphain</td>\n",
              "      <td>1032262_2</td>\n",
              "      <td>1 days</td>\n",
              "    </tr>\n",
              "    <tr>\n",
              "      <th>29</th>\n",
              "      <td>1032262</td>\n",
              "      <td>2016-08-03</td>\n",
              "      <td>2016-08-04</td>\n",
              "      <td>6701</td>\n",
              "      <td>desktop</td>\n",
              "      <td>8436</td>\n",
              "      <td>Gondal</td>\n",
              "      <td>Axphain</td>\n",
              "      <td>1032262_2</td>\n",
              "      <td>1 days</td>\n",
              "    </tr>\n",
              "  </tbody>\n",
              "</table>\n",
              "</div>"
            ],
            "text/plain": [
              "    user_id    checkin   checkout  ...  hotel_country   utrip_id   stay\n",
              "0   1006220 2016-04-09 2016-04-11  ...         Gondal  1006220_1 2 days\n",
              "1   1006220 2016-04-11 2016-04-12  ...         Gondal  1006220_1 1 days\n",
              "2   1006220 2016-04-12 2016-04-16  ...   Glubbdubdrib  1006220_1 4 days\n",
              "3   1006220 2016-04-16 2016-04-17  ...         Gondal  1006220_1 1 days\n",
              "4   1010293 2016-07-09 2016-07-10  ...   Cobra Island  1010293_1 1 days\n",
              "5   1010293 2016-07-10 2016-07-11  ...   Cobra Island  1010293_1 1 days\n",
              "6   1010293 2016-07-12 2016-07-13  ...   Cobra Island  1010293_1 1 days\n",
              "7   1010293 2016-07-13 2016-07-15  ...   Cobra Island  1010293_1 2 days\n",
              "8   1010293 2016-07-15 2016-07-16  ...   Cobra Island  1010293_1 1 days\n",
              "9   1010293 2016-07-16 2016-07-17  ...   Cobra Island  1010293_1 1 days\n",
              "10  1012680 2016-10-23 2016-10-25  ...          Yerba  1012680_1 2 days\n",
              "11  1012680 2016-10-25 2016-10-27  ...          Panem  1012680_1 2 days\n",
              "12  1012680 2016-10-27 2016-10-30  ...          Yerba  1012680_1 3 days\n",
              "13  1012680 2016-10-30 2016-11-02  ...          Yerba  1012680_1 3 days\n",
              "14  1017326 2016-04-30 2016-05-01  ...         Kangan  1017326_1 1 days\n",
              "15  1017326 2016-05-01 2016-05-03  ...         Kangan  1017326_1 2 days\n",
              "16  1017326 2016-05-03 2016-05-04  ...         Kangan  1017326_1 1 days\n",
              "17  1017326 2016-05-04 2016-05-05  ...         Kangan  1017326_1 1 days\n",
              "18  1024544 2016-08-02 2016-08-03  ...       Borginia  1024544_2 1 days\n",
              "19  1024544 2016-08-03 2016-08-05  ...       Borginia  1024544_2 2 days\n",
              "20  1024544 2016-08-05 2016-08-06  ...       Borginia  1024544_2 1 days\n",
              "21  1024544 2016-08-06 2016-08-09  ...       Borginia  1024544_2 3 days\n",
              "22  1024544 2016-08-09 2016-08-10  ...       Lilliput  1024544_2 1 days\n",
              "23   103011 2016-08-10 2016-08-11  ...       Pokrovia   103011_1 1 days\n",
              "24   103011 2016-08-11 2016-08-14  ...       Pokrovia   103011_1 3 days\n",
              "25   103011 2016-08-14 2016-08-16  ...       Pokrovia   103011_1 2 days\n",
              "26   103011 2016-08-16 2016-08-17  ...       Pokrovia   103011_1 1 days\n",
              "27  1032262 2016-07-31 2016-08-02  ...        Axphain  1032262_2 2 days\n",
              "28  1032262 2016-08-02 2016-08-03  ...        Axphain  1032262_2 1 days\n",
              "29  1032262 2016-08-03 2016-08-04  ...        Axphain  1032262_2 1 days\n",
              "\n",
              "[30 rows x 10 columns]"
            ]
          },
          "metadata": {
            "tags": []
          },
          "execution_count": 16
        }
      ]
    },
    {
      "cell_type": "code",
      "metadata": {
        "colab": {
          "base_uri": "https://localhost:8080/",
          "height": 202
        },
        "id": "zYI1fG10CCy0",
        "outputId": "67d1d409-93b4-4123-963c-27bc6a8c8227"
      },
      "source": [
        "df[df[\"user_id\"] == 1024544]"
      ],
      "execution_count": null,
      "outputs": [
        {
          "output_type": "execute_result",
          "data": {
            "text/html": [
              "<div>\n",
              "<style scoped>\n",
              "    .dataframe tbody tr th:only-of-type {\n",
              "        vertical-align: middle;\n",
              "    }\n",
              "\n",
              "    .dataframe tbody tr th {\n",
              "        vertical-align: top;\n",
              "    }\n",
              "\n",
              "    .dataframe thead th {\n",
              "        text-align: right;\n",
              "    }\n",
              "</style>\n",
              "<table border=\"1\" class=\"dataframe\">\n",
              "  <thead>\n",
              "    <tr style=\"text-align: right;\">\n",
              "      <th></th>\n",
              "      <th>user_id</th>\n",
              "      <th>checkin</th>\n",
              "      <th>checkout</th>\n",
              "      <th>city_id</th>\n",
              "      <th>device_class</th>\n",
              "      <th>affiliate_id</th>\n",
              "      <th>booker_country</th>\n",
              "      <th>hotel_country</th>\n",
              "      <th>utrip_id</th>\n",
              "      <th>stay</th>\n",
              "    </tr>\n",
              "  </thead>\n",
              "  <tbody>\n",
              "    <tr>\n",
              "      <th>18</th>\n",
              "      <td>1024544</td>\n",
              "      <td>2016-08-02</td>\n",
              "      <td>2016-08-03</td>\n",
              "      <td>50957</td>\n",
              "      <td>tablet</td>\n",
              "      <td>3631</td>\n",
              "      <td>The Devilfire Empire</td>\n",
              "      <td>Borginia</td>\n",
              "      <td>1024544_2</td>\n",
              "      <td>1 days</td>\n",
              "    </tr>\n",
              "    <tr>\n",
              "      <th>19</th>\n",
              "      <td>1024544</td>\n",
              "      <td>2016-08-03</td>\n",
              "      <td>2016-08-05</td>\n",
              "      <td>60222</td>\n",
              "      <td>desktop</td>\n",
              "      <td>9924</td>\n",
              "      <td>The Devilfire Empire</td>\n",
              "      <td>Borginia</td>\n",
              "      <td>1024544_2</td>\n",
              "      <td>2 days</td>\n",
              "    </tr>\n",
              "    <tr>\n",
              "      <th>20</th>\n",
              "      <td>1024544</td>\n",
              "      <td>2016-08-05</td>\n",
              "      <td>2016-08-06</td>\n",
              "      <td>23612</td>\n",
              "      <td>tablet</td>\n",
              "      <td>3631</td>\n",
              "      <td>The Devilfire Empire</td>\n",
              "      <td>Borginia</td>\n",
              "      <td>1024544_2</td>\n",
              "      <td>1 days</td>\n",
              "    </tr>\n",
              "    <tr>\n",
              "      <th>21</th>\n",
              "      <td>1024544</td>\n",
              "      <td>2016-08-06</td>\n",
              "      <td>2016-08-09</td>\n",
              "      <td>17013</td>\n",
              "      <td>desktop</td>\n",
              "      <td>9924</td>\n",
              "      <td>The Devilfire Empire</td>\n",
              "      <td>Borginia</td>\n",
              "      <td>1024544_2</td>\n",
              "      <td>3 days</td>\n",
              "    </tr>\n",
              "    <tr>\n",
              "      <th>22</th>\n",
              "      <td>1024544</td>\n",
              "      <td>2016-08-09</td>\n",
              "      <td>2016-08-10</td>\n",
              "      <td>46794</td>\n",
              "      <td>tablet</td>\n",
              "      <td>3631</td>\n",
              "      <td>The Devilfire Empire</td>\n",
              "      <td>Lilliput</td>\n",
              "      <td>1024544_2</td>\n",
              "      <td>1 days</td>\n",
              "    </tr>\n",
              "  </tbody>\n",
              "</table>\n",
              "</div>"
            ],
            "text/plain": [
              "    user_id    checkin   checkout  ...  hotel_country   utrip_id   stay\n",
              "18  1024544 2016-08-02 2016-08-03  ...       Borginia  1024544_2 1 days\n",
              "19  1024544 2016-08-03 2016-08-05  ...       Borginia  1024544_2 2 days\n",
              "20  1024544 2016-08-05 2016-08-06  ...       Borginia  1024544_2 1 days\n",
              "21  1024544 2016-08-06 2016-08-09  ...       Borginia  1024544_2 3 days\n",
              "22  1024544 2016-08-09 2016-08-10  ...       Lilliput  1024544_2 1 days\n",
              "\n",
              "[5 rows x 10 columns]"
            ]
          },
          "metadata": {
            "tags": []
          },
          "execution_count": 17
        }
      ]
    },
    {
      "cell_type": "markdown",
      "metadata": {
        "id": "IfwOcJ1G265u"
      },
      "source": [
        "## Godal -> India\n",
        "## The Devilfire Empire -> ?????\n",
        "## Elbonia -> western European country\n",
        "## Tcherkistan -> East European country\n",
        "## Bartovia -> a European Country in the Simpsons"
      ]
    },
    {
      "cell_type": "code",
      "metadata": {
        "colab": {
          "base_uri": "https://localhost:8080/"
        },
        "id": "IOozCBXr2hYw",
        "outputId": "0354b574-8901-4dcc-e23f-4dfa45d2f409"
      },
      "source": [
        "df[\"booker_country\"].value_counts()"
      ],
      "execution_count": null,
      "outputs": [
        {
          "output_type": "execute_result",
          "data": {
            "text/plain": [
              "Gondal                  536036\n",
              "The Devilfire Empire    286244\n",
              "Elbonia                 235344\n",
              "Tcherkistan              80573\n",
              "Bartovia                 28638\n",
              "Name: booker_country, dtype: int64"
            ]
          },
          "metadata": {
            "tags": []
          },
          "execution_count": 18
        }
      ]
    },
    {
      "cell_type": "code",
      "metadata": {
        "colab": {
          "base_uri": "https://localhost:8080/"
        },
        "id": "3nWO3PV76Myk",
        "outputId": "6e25e8dd-37fe-46fc-9c21-fc8c0dd0fd7d"
      },
      "source": [
        "for index, group in df.groupby(\"hotel_country\"):\n",
        "  # 平均ホテル滞在数は\n",
        "  print(index, group[\"stay\"].mean())"
      ],
      "execution_count": null,
      "outputs": [
        {
          "output_type": "stream",
          "text": [
            "Absurdistan 1 days 20:25:56.756756756\n",
            "Aldorria 2 days 19:07:46.503667481\n",
            "Aldovia 2 days 03:41:14.773027081\n",
            "Almaigne 2 days 13:42:51.428571428\n",
            "Altis and Stratis, Republic of 1 days 15:02:58.512396694\n",
            "Alvonia 1 days 21:55:37.885385821\n",
            "Angrezi Raj 2 days 00:00:00\n",
            "Aslerfan 1 days 17:33:40.159803319\n",
            "Atlantis 1 days 22:00:28.698710433\n",
            "Axphain 2 days 01:09:23.710435600\n",
            "Babar's Kingdom 3 days 12:00:00\n",
            "Bacteria 2 days 06:13:34.190687361\n",
            "Bahari 3 days 00:00:00\n",
            "Bahavia 1 days 19:57:43.229308005\n",
            "Baltish 1 days 19:06:29.808917197\n",
            "Bandaria 1 days 14:13:05.334555453\n",
            "Bangalla 1 days 16:36:55.384615384\n",
            "Bartovia 1 days 15:16:05.437482225\n",
            "Basran 2 days 04:21:49.090909090\n",
            "Bialya 2 days 11:01:37.297297297\n",
            "Bolumbia 2 days 00:17:37.419683834\n",
            "Borginia 1 days 17:59:15.028600232\n",
            "Borostyria 2 days 09:47:55.739644970\n",
            "Bozatta 1 days 15:11:13.819552205\n",
            "Braganza, Dominion of 1 days 10:59:02.857142857\n",
            "Brobdingnag 1 days 07:23:04.615384615\n",
            "Bruzundanga 1 days 23:12:47.213114754\n",
            "Buenaventura 3 days 00:00:00\n",
            "Bultan 1 days 12:38:34.285714285\n",
            "Buranda 1 days 20:43:28.941176470\n",
            "Caledonia 1 days 12:00:00\n",
            "Carjackistan 1 days 18:12:16.856187290\n",
            "Carpathia 1 days 17:01:45.214899713\n",
            "Chernarus 1 days 21:23:04.615384615\n",
            "Chinese Federation 4 days 17:08:34.285714285\n",
            "Coalition States 1 days 12:33:25.415860735\n",
            "Cobra Island 1 days 15:18:28.992604741\n",
            "Congaree Socialist Republic 1 days 20:34:17.142857142\n",
            "Costa Luna 2 days 04:51:38.734177215\n",
            "Danu 1 days 10:32:11.707317073\n",
            "Datlof 1 days 22:29:03.157894736\n",
            "Dawsbergen 1 days 20:42:43.893347139\n",
            "Drusselstein 2 days 08:38:12.299168975\n",
            "Durhan 2 days 05:45:36\n",
            "Edonia 1 days 20:02:49.598822230\n",
            "El Othar 2 days 01:57:33.061224489\n",
            "Elbonia 1 days 11:44:40.203835819\n",
            "Erewhon 1 days 03:25:42.857142857\n",
            "Eurasia 1 days 20:29:45.399768250\n",
            "Feldenberg 2 days 02:31:02.937062937\n",
            "Flausenthurm 2 days 03:10:47.318611987\n",
            "Florin 3 days 00:00:00\n",
            "Fook Island 1 days 18:45:37.867937511\n",
            "Franchia 2 days 01:09:36.435045317\n",
            "Freedonia 2 days 04:21:49.090909090\n",
            "Genosha 1 days 15:58:39.372900335\n",
            "Genovia 2 days 10:54:32.727272727\n",
            "Gilead 2 days 05:08:34.285714285\n",
            "Glovania 2 days 00:00:00\n",
            "Glubbdubdrib 1 days 18:18:47.910208444\n",
            "Gondal 1 days 11:51:27.668962363\n",
            "Gondour 1 days 22:24:00\n",
            "Grand Fenwick 1 days 12:00:00\n",
            "Graustark 2 days 11:40:32.432432432\n",
            "Graznavia 1 days 19:33:46.890756302\n",
            "Grenyarnia 2 days 01:28:56.078229541\n",
            "Grinlandia 1 days 19:49:03.699731903\n",
            "Groland 4 days 12:00:00\n",
            "Guilder 3 days 00:00:00\n",
            "Gérolstein 2 days 12:00:00\n",
            "Halla 1 days 12:24:39.102715466\n",
            "Holy Britannian Empire 2 days 04:25:05.193075898\n",
            "Idris 2 days 10:06:14.736062233\n",
            "Illyria 2 days 22:51:25.714285714\n",
            "Illéa 1 days 19:42:51.428571428\n",
            "Isla Island 2 days 01:55:40.327868852\n",
            "Isle of Fogg 1 days 11:38:16.983758700\n",
            "Kahndaq 2 days 09:00:00\n",
            "Kamistan 1 days 20:07:08.112949371\n",
            "Kangan 2 days 04:41:38.404492379\n",
            "Kasnia 1 days 18:19:04.635908838\n",
            "Kazahrus 1 days 15:05:43.462897526\n",
            "Kazirstan 2 days 00:00:00\n",
            "Khura'in 2 days 03:30:29.234338747\n",
            "Krakozhia 2 days 12:00:00\n",
            "Kumbolaland 1 days 19:49:11.658767772\n",
            "Kunami 5 days 00:00:00\n",
            "Kyrat 1 days 21:13:34.070351758\n",
            "Latveria 3 days 06:00:00\n",
            "Laurania 1 days 14:19:55.366795366\n",
            "Leutonia 1 days 22:38:10.609421100\n",
            "Lilliput 2 days 02:41:16.997994843\n",
            "Lovitzna 4 days 09:00:00\n",
            "Lower Slobbovia 1 days 16:00:00\n",
            "Lugash 1 days 10:00:24.406779661\n",
            "Maltovia 3 days 00:00:00\n",
            "Marina Venetta 1 days 19:15:32.895277207\n",
            "Markovia 3 days 12:00:00\n",
            "Marshovia 1 days 05:44:47.323943661\n",
            "Matobo 2 days 00:00:00\n",
            "Medici 2 days 00:00:00\n",
            "Merania, Kingdom of 1 days 14:13:59.589365622\n",
            "Metrofulus 2 days 05:20:00\n",
            "Moldavia 2 days 04:00:00\n",
            "Molvanîa 2 days 18:42:21.176470588\n",
            "Moronika 2 days 00:00:00\n",
            "Mundania 1 days 23:47:35.172413793\n",
            "Mypos 1 days 21:52:20.902021772\n",
            "Nairomi 1 days 15:37:58.899082568\n",
            "Nambutu 2 days 13:00:00\n",
            "Naruba 2 days 02:21:37.127937336\n",
            "Nerdocrumbesia 1 days 12:00:00\n",
            "Nevoruss 1 days 10:25:25.173563658\n",
            "New Germany 1 days 00:00:00\n",
            "Norland 2 days 02:16:16.321179844\n",
            "Norteguay 1 days 00:00:00\n",
            "North American Union 1 days 21:40:11.650485436\n",
            "Nova Africa 1 days 13:14:18.204334365\n",
            "Novistrana 1 days 10:57:58.244015893\n",
            "Novoselic, The Kingdom of 2 days 16:17:58.074866310\n",
            "Nuevo Rico 1 days 00:00:00\n",
            "Oceania 1 days 20:03:37.710583153\n",
            "Osterlich 1 days 05:46:00.232326932\n",
            "Outer Heaven 2 days 03:12:00\n",
            "Palombia 1 days 15:57:57.744087325\n",
            "Panem 1 days 06:42:47.832167832\n",
            "Patusan 1 days 10:40:01.103955841\n",
            "Penguina (L'île des Pingouins) 2 days 03:41:32.307692307\n",
            "Phaic Tăn 1 days 17:56:02.637362637\n",
            "Poictesme 2 days 22:08:09.320388349\n",
            "Pokolistan 4 days 06:00:00\n",
            "Pokrovia 1 days 11:27:18.709677419\n",
            "Polrugaria 2 days 01:05:27.272727272\n",
            "Pullamawang 1 days 14:05:32.717190388\n",
            "Qasha 1 days 11:20:20.338983050\n",
            "Ragaan 2 days 09:45:00\n",
            "Republic of New Rearendia 1 days 19:48:00\n",
            "Rhelasia 2 days 00:00:00\n",
            "Robo-Hungarian Empire 1 days 20:51:14.157303370\n",
            "Rolisica 1 days 12:18:18.468976631\n",
            "Romanza 3 days 22:00:00\n",
            "Rook Islands 2 days 04:16:32.576882290\n",
            "Russian Democratic Union 2 days 00:22:23.005181347\n",
            "Sahrani, Kingdom of 3 days 00:00:00\n",
            "Saint Marie 1 days 20:52:59.220779220\n",
            "Samavia 1 days 21:24:08.826619964\n",
            "San Lorenzo 2 days 16:04:48\n",
            "San Marcos 2 days 21:49:05.454545454\n",
            "San Salvador 3 days 08:00:00\n",
            "San Serriffe 2 days 04:21:49.090909090\n",
            "San Sombrèro 1 days 15:46:53.052879889\n",
            "San Theodoros 2 days 03:38:10.909090909\n",
            "Santa Prisca 1 days 14:46:04.887824003\n",
            "Sardovia 4 days 00:00:00\n",
            "Sarkhan 2 days 02:01:21.101376720\n",
            "Shangri-La 1 days 19:00:00\n",
            "Shtischtorchnia 2 days 06:00:00\n",
            "Slaka 1 days 11:04:13.916053656\n",
            "Slovetzia 2 days 13:05:27.272727272\n",
            "Sodor 2 days 06:00:00\n",
            "Sokovia 1 days 21:34:50.867285937\n",
            "Squamuglia 2 days 19:12:00\n",
            "St. George's Island 1 days 09:52:56.470588235\n",
            "Sunda 2 days 01:24:42.352941176\n",
            "Svenborgia 1 days 17:54:08.208469055\n",
            "Syldavia 2 days 06:17:02.547584187\n",
            "Sylvania 1 days 16:07:57.916773040\n",
            "São Rico 1 days 13:47:35.573505654\n",
            "Takistan 3 days 03:00:00\n",
            "Taronia 2 days 17:41:03.157894736\n",
            "Tcherkistan 1 days 13:09:51.492910758\n",
            "The Devilfire Empire 1 days 22:01:39.977236512\n",
            "Tijata 5 days 00:00:00\n",
            "Tirania, Republic of 2 days 21:36:00\n",
            "Trans-Carpathia 1 days 17:34:01.237113402\n",
            "Tsergovia 1 days 13:20:00\n",
            "Turgistan 2 days 02:44:56.035242290\n",
            "Tyranistan 2 days 18:40:00\n",
            "Uqbar 2 days 09:59:15.279503105\n",
            "Urk (also Uruk) 1 days 16:30:00\n",
            "Urkesh 1 days 20:08:58.273238504\n",
            "Urmania 2 days 06:51:25.714285714\n",
            "Utopia 9 days 00:00:00\n",
            "Vadeem 1 days 10:56:46.829268292\n",
            "Veyshnoria 1 days 11:39:01.747572815\n",
            "Vulgaria 1 days 16:41:44.347826086\n",
            "Wadiya 1 days 02:16:38.540145985\n",
            "West Angola 2 days 00:00:00\n",
            "West Hun Chiu 2 days 00:00:00\n",
            "Wredpryd 1 days 14:00:00\n",
            "Yellow Empire 1 days 22:24:00\n",
            "Yerba 1 days 18:46:20.198019801\n",
            "Yudonia 1 days 22:34:24.108352144\n",
            "Zekistan 1 days 06:28:48\n",
            "Zephyria 2 days 01:44:51.807542262\n"
          ],
          "name": "stdout"
        }
      ]
    },
    {
      "cell_type": "markdown",
      "metadata": {
        "id": "eWgsfH-W9MOm"
      },
      "source": [
        "## 違うホテルへの遷移確率算出"
      ]
    },
    {
      "cell_type": "code",
      "metadata": {
        "id": "IcqLa-yh4PiI"
      },
      "source": [
        "# 違うホテルへの遷移確率は\n",
        "list_transition_rate = []\n",
        "for index, group in df.groupby(\"user_id\"):\n",
        "  uniq_hotel_country = group[\"hotel_country\"].unique().tolist()\n",
        "  list_transition_rate.append([index,uniq_hotel_country])"
      ],
      "execution_count": null,
      "outputs": []
    },
    {
      "cell_type": "code",
      "metadata": {
        "id": "xePBO0-K9Exi"
      },
      "source": [
        "visitHotel_df = pd.DataFrame(list_transition_rate,columns=[\"user_id\", \"visitHotel\"])"
      ],
      "execution_count": null,
      "outputs": []
    },
    {
      "cell_type": "code",
      "metadata": {
        "colab": {
          "base_uri": "https://localhost:8080/",
          "height": 416
        },
        "id": "QLCecwdS_WwB",
        "outputId": "047ce870-e8f1-4325-c008-af2b6b23fdd8"
      },
      "source": [
        "visitHotel_df"
      ],
      "execution_count": null,
      "outputs": [
        {
          "output_type": "execute_result",
          "data": {
            "text/html": [
              "<div>\n",
              "<style scoped>\n",
              "    .dataframe tbody tr th:only-of-type {\n",
              "        vertical-align: middle;\n",
              "    }\n",
              "\n",
              "    .dataframe tbody tr th {\n",
              "        vertical-align: top;\n",
              "    }\n",
              "\n",
              "    .dataframe thead th {\n",
              "        text-align: right;\n",
              "    }\n",
              "</style>\n",
              "<table border=\"1\" class=\"dataframe\">\n",
              "  <thead>\n",
              "    <tr style=\"text-align: right;\">\n",
              "      <th></th>\n",
              "      <th>user_id</th>\n",
              "      <th>visitHotel</th>\n",
              "    </tr>\n",
              "  </thead>\n",
              "  <tbody>\n",
              "    <tr>\n",
              "      <th>0</th>\n",
              "      <td>29</td>\n",
              "      <td>[Elbonia]</td>\n",
              "    </tr>\n",
              "    <tr>\n",
              "      <th>1</th>\n",
              "      <td>81</td>\n",
              "      <td>[Elbonia, Leutonia]</td>\n",
              "    </tr>\n",
              "    <tr>\n",
              "      <th>2</th>\n",
              "      <td>136</td>\n",
              "      <td>[Osterlich, Sylvania, Slaka]</td>\n",
              "    </tr>\n",
              "    <tr>\n",
              "      <th>3</th>\n",
              "      <td>149</td>\n",
              "      <td>[Kangan]</td>\n",
              "    </tr>\n",
              "    <tr>\n",
              "      <th>4</th>\n",
              "      <td>156</td>\n",
              "      <td>[Leutonia, Kazahrus, Urkesh]</td>\n",
              "    </tr>\n",
              "    <tr>\n",
              "      <th>...</th>\n",
              "      <td>...</td>\n",
              "      <td>...</td>\n",
              "    </tr>\n",
              "    <tr>\n",
              "      <th>200148</th>\n",
              "      <td>6257979</td>\n",
              "      <td>[Cobra Island, Santa Prisca]</td>\n",
              "    </tr>\n",
              "    <tr>\n",
              "      <th>200149</th>\n",
              "      <td>6258017</td>\n",
              "      <td>[Kasnia, Sarkhan]</td>\n",
              "    </tr>\n",
              "    <tr>\n",
              "      <th>200150</th>\n",
              "      <td>6258041</td>\n",
              "      <td>[Glubbdubdrib]</td>\n",
              "    </tr>\n",
              "    <tr>\n",
              "      <th>200151</th>\n",
              "      <td>6258065</td>\n",
              "      <td>[Pullamawang]</td>\n",
              "    </tr>\n",
              "    <tr>\n",
              "      <th>200152</th>\n",
              "      <td>6258087</td>\n",
              "      <td>[Gondal]</td>\n",
              "    </tr>\n",
              "  </tbody>\n",
              "</table>\n",
              "<p>200153 rows × 2 columns</p>\n",
              "</div>"
            ],
            "text/plain": [
              "        user_id                    visitHotel\n",
              "0            29                     [Elbonia]\n",
              "1            81           [Elbonia, Leutonia]\n",
              "2           136  [Osterlich, Sylvania, Slaka]\n",
              "3           149                      [Kangan]\n",
              "4           156  [Leutonia, Kazahrus, Urkesh]\n",
              "...         ...                           ...\n",
              "200148  6257979  [Cobra Island, Santa Prisca]\n",
              "200149  6258017             [Kasnia, Sarkhan]\n",
              "200150  6258041                [Glubbdubdrib]\n",
              "200151  6258065                 [Pullamawang]\n",
              "200152  6258087                      [Gondal]\n",
              "\n",
              "[200153 rows x 2 columns]"
            ]
          },
          "metadata": {
            "tags": []
          },
          "execution_count": 29
        }
      ]
    },
    {
      "cell_type": "markdown",
      "metadata": {
        "id": "bYwilJJh6FRf"
      },
      "source": [
        "# categorical変数を numeriacl dataに変更する"
      ]
    },
    {
      "cell_type": "code",
      "metadata": {
        "id": "VNYQZwN2Cpc_"
      },
      "source": [
        "from sklearn import preprocessing\n",
        "le_device = preprocessing.LabelEncoder()\n",
        "\n",
        "# Streetの列のユニーク値を抽出\n",
        "device_uniq = df[\"device_class\"].unique()\n",
        "\n",
        "# labelEncoder\n",
        "le_device.fit(device_uniq)\n",
        "df[\"device_class\"] = le_device.transform(df[\"device_class\"])"
      ],
      "execution_count": null,
      "outputs": []
    },
    {
      "cell_type": "code",
      "metadata": {
        "id": "Ue1hbPwcEb_O"
      },
      "source": [
        "le_booker = preprocessing.LabelEncoder()\n",
        "\n",
        "# Streetの列のユニーク値を抽出\n",
        "booker_uniq = df[\"booker_country\"].unique()\n",
        "\n",
        "# labelEncoder\n",
        "le_booker.fit(booker_uniq)\n",
        "df[\"booker_country\"] = le_booker.transform(df[\"booker_country\"])"
      ],
      "execution_count": null,
      "outputs": []
    },
    {
      "cell_type": "code",
      "metadata": {
        "id": "FrSAkzsXFPNI"
      },
      "source": [
        "le_hotel = preprocessing.LabelEncoder()\n",
        "\n",
        "# Streetの列のユニーク値を抽出\n",
        "hotel_uniq = df[\"hotel_country\"].unique()\n",
        "\n",
        "# labelEncoder\n",
        "le_hotel.fit(hotel_uniq)\n",
        "df[\"hotel_country\"] = le_hotel.transform(df[\"hotel_country\"])"
      ],
      "execution_count": null,
      "outputs": []
    },
    {
      "cell_type": "code",
      "metadata": {
        "colab": {
          "base_uri": "https://localhost:8080/"
        },
        "id": "bzr1y2DDEZXw",
        "outputId": "e1e5442c-979a-40bb-fd2b-ce77f7251855"
      },
      "source": [
        "df[\"hotel_country\"].value_counts().plot(kind =\"bar\")"
      ],
      "execution_count": null,
      "outputs": [
        {
          "output_type": "execute_result",
          "data": {
            "text/plain": [
              "36     137791\n",
              "52     117717\n",
              "60     104979\n",
              "59      74840\n",
              "46      53965\n",
              "        ...  \n",
              "115         1\n",
              "120         1\n",
              "188         1\n",
              "137         1\n",
              "27          1\n",
              "Name: hotel_country, Length: 195, dtype: int64"
            ]
          },
          "metadata": {
            "tags": []
          },
          "execution_count": 21
        }
      ]
    },
    {
      "cell_type": "code",
      "metadata": {
        "colab": {
          "base_uri": "https://localhost:8080/"
        },
        "id": "2GPCwnpVFYjv",
        "outputId": "a6817acf-f5d3-42b9-b60e-3c6e4e69c804"
      },
      "source": [
        "df[\"booker_country\"].value_counts().plot(kind =\"bar\")"
      ],
      "execution_count": null,
      "outputs": [
        {
          "output_type": "execute_result",
          "data": {
            "text/plain": [
              "2    536036\n",
              "4    286244\n",
              "1    235344\n",
              "3     80573\n",
              "0     28638\n",
              "Name: booker_country, dtype: int64"
            ]
          },
          "metadata": {
            "tags": []
          },
          "execution_count": 22
        }
      ]
    },
    {
      "cell_type": "code",
      "metadata": {
        "colab": {
          "base_uri": "https://localhost:8080/",
          "height": 416
        },
        "id": "saHaHW4kGANp",
        "outputId": "92435f51-1ef1-4f53-d8e6-b3f65908f86b"
      },
      "source": [
        "df"
      ],
      "execution_count": null,
      "outputs": [
        {
          "output_type": "execute_result",
          "data": {
            "text/html": [
              "<div>\n",
              "<style scoped>\n",
              "    .dataframe tbody tr th:only-of-type {\n",
              "        vertical-align: middle;\n",
              "    }\n",
              "\n",
              "    .dataframe tbody tr th {\n",
              "        vertical-align: top;\n",
              "    }\n",
              "\n",
              "    .dataframe thead th {\n",
              "        text-align: right;\n",
              "    }\n",
              "</style>\n",
              "<table border=\"1\" class=\"dataframe\">\n",
              "  <thead>\n",
              "    <tr style=\"text-align: right;\">\n",
              "      <th></th>\n",
              "      <th>user_id</th>\n",
              "      <th>checkin</th>\n",
              "      <th>checkout</th>\n",
              "      <th>city_id</th>\n",
              "      <th>device_class</th>\n",
              "      <th>affiliate_id</th>\n",
              "      <th>booker_country</th>\n",
              "      <th>hotel_country</th>\n",
              "      <th>utrip_id</th>\n",
              "      <th>stay</th>\n",
              "    </tr>\n",
              "  </thead>\n",
              "  <tbody>\n",
              "    <tr>\n",
              "      <th>0</th>\n",
              "      <td>1006220</td>\n",
              "      <td>2016-04-09</td>\n",
              "      <td>2016-04-11</td>\n",
              "      <td>31114</td>\n",
              "      <td>0</td>\n",
              "      <td>384</td>\n",
              "      <td>2</td>\n",
              "      <td>60</td>\n",
              "      <td>1006220_1</td>\n",
              "      <td>2 days</td>\n",
              "    </tr>\n",
              "    <tr>\n",
              "      <th>1</th>\n",
              "      <td>1006220</td>\n",
              "      <td>2016-04-11</td>\n",
              "      <td>2016-04-12</td>\n",
              "      <td>39641</td>\n",
              "      <td>0</td>\n",
              "      <td>384</td>\n",
              "      <td>2</td>\n",
              "      <td>60</td>\n",
              "      <td>1006220_1</td>\n",
              "      <td>1 days</td>\n",
              "    </tr>\n",
              "    <tr>\n",
              "      <th>2</th>\n",
              "      <td>1006220</td>\n",
              "      <td>2016-04-12</td>\n",
              "      <td>2016-04-16</td>\n",
              "      <td>20232</td>\n",
              "      <td>0</td>\n",
              "      <td>384</td>\n",
              "      <td>2</td>\n",
              "      <td>59</td>\n",
              "      <td>1006220_1</td>\n",
              "      <td>4 days</td>\n",
              "    </tr>\n",
              "    <tr>\n",
              "      <th>3</th>\n",
              "      <td>1006220</td>\n",
              "      <td>2016-04-16</td>\n",
              "      <td>2016-04-17</td>\n",
              "      <td>24144</td>\n",
              "      <td>0</td>\n",
              "      <td>384</td>\n",
              "      <td>2</td>\n",
              "      <td>60</td>\n",
              "      <td>1006220_1</td>\n",
              "      <td>1 days</td>\n",
              "    </tr>\n",
              "    <tr>\n",
              "      <th>4</th>\n",
              "      <td>1010293</td>\n",
              "      <td>2016-07-09</td>\n",
              "      <td>2016-07-10</td>\n",
              "      <td>5325</td>\n",
              "      <td>1</td>\n",
              "      <td>359</td>\n",
              "      <td>4</td>\n",
              "      <td>36</td>\n",
              "      <td>1010293_1</td>\n",
              "      <td>1 days</td>\n",
              "    </tr>\n",
              "    <tr>\n",
              "      <th>...</th>\n",
              "      <td>...</td>\n",
              "      <td>...</td>\n",
              "      <td>...</td>\n",
              "      <td>...</td>\n",
              "      <td>...</td>\n",
              "      <td>...</td>\n",
              "      <td>...</td>\n",
              "      <td>...</td>\n",
              "      <td>...</td>\n",
              "      <td>...</td>\n",
              "    </tr>\n",
              "    <tr>\n",
              "      <th>1166830</th>\n",
              "      <td>999261</td>\n",
              "      <td>2016-09-13</td>\n",
              "      <td>2016-09-15</td>\n",
              "      <td>14197</td>\n",
              "      <td>2</td>\n",
              "      <td>10332</td>\n",
              "      <td>2</td>\n",
              "      <td>52</td>\n",
              "      <td>999261_1</td>\n",
              "      <td>2 days</td>\n",
              "    </tr>\n",
              "    <tr>\n",
              "      <th>1166831</th>\n",
              "      <td>999755</td>\n",
              "      <td>2016-12-13</td>\n",
              "      <td>2016-12-16</td>\n",
              "      <td>4476</td>\n",
              "      <td>0</td>\n",
              "      <td>2661</td>\n",
              "      <td>4</td>\n",
              "      <td>60</td>\n",
              "      <td>999755_1</td>\n",
              "      <td>3 days</td>\n",
              "    </tr>\n",
              "    <tr>\n",
              "      <th>1166832</th>\n",
              "      <td>999755</td>\n",
              "      <td>2016-12-16</td>\n",
              "      <td>2016-12-17</td>\n",
              "      <td>1034</td>\n",
              "      <td>0</td>\n",
              "      <td>7974</td>\n",
              "      <td>4</td>\n",
              "      <td>60</td>\n",
              "      <td>999755_1</td>\n",
              "      <td>1 days</td>\n",
              "    </tr>\n",
              "    <tr>\n",
              "      <th>1166833</th>\n",
              "      <td>999755</td>\n",
              "      <td>2016-12-22</td>\n",
              "      <td>2016-12-25</td>\n",
              "      <td>64876</td>\n",
              "      <td>0</td>\n",
              "      <td>7974</td>\n",
              "      <td>4</td>\n",
              "      <td>52</td>\n",
              "      <td>999755_1</td>\n",
              "      <td>3 days</td>\n",
              "    </tr>\n",
              "    <tr>\n",
              "      <th>1166834</th>\n",
              "      <td>999755</td>\n",
              "      <td>2016-12-25</td>\n",
              "      <td>2016-12-28</td>\n",
              "      <td>9608</td>\n",
              "      <td>0</td>\n",
              "      <td>9924</td>\n",
              "      <td>4</td>\n",
              "      <td>52</td>\n",
              "      <td>999755_1</td>\n",
              "      <td>3 days</td>\n",
              "    </tr>\n",
              "  </tbody>\n",
              "</table>\n",
              "<p>1166835 rows × 10 columns</p>\n",
              "</div>"
            ],
            "text/plain": [
              "         user_id    checkin   checkout  ...  hotel_country   utrip_id   stay\n",
              "0        1006220 2016-04-09 2016-04-11  ...             60  1006220_1 2 days\n",
              "1        1006220 2016-04-11 2016-04-12  ...             60  1006220_1 1 days\n",
              "2        1006220 2016-04-12 2016-04-16  ...             59  1006220_1 4 days\n",
              "3        1006220 2016-04-16 2016-04-17  ...             60  1006220_1 1 days\n",
              "4        1010293 2016-07-09 2016-07-10  ...             36  1010293_1 1 days\n",
              "...          ...        ...        ...  ...            ...        ...    ...\n",
              "1166830   999261 2016-09-13 2016-09-15  ...             52   999261_1 2 days\n",
              "1166831   999755 2016-12-13 2016-12-16  ...             60   999755_1 3 days\n",
              "1166832   999755 2016-12-16 2016-12-17  ...             60   999755_1 1 days\n",
              "1166833   999755 2016-12-22 2016-12-25  ...             52   999755_1 3 days\n",
              "1166834   999755 2016-12-25 2016-12-28  ...             52   999755_1 3 days\n",
              "\n",
              "[1166835 rows x 10 columns]"
            ]
          },
          "metadata": {
            "tags": []
          },
          "execution_count": 23
        }
      ]
    },
    {
      "cell_type": "code",
      "metadata": {
        "colab": {
          "base_uri": "https://localhost:8080/"
        },
        "id": "M4ThVNc_HEDv",
        "outputId": "f77a69c4-7213-4e50-dbf1-d97beae5e31b"
      },
      "source": [
        "df[\"stay\"]"
      ],
      "execution_count": null,
      "outputs": [
        {
          "output_type": "execute_result",
          "data": {
            "text/plain": [
              "0         2 days\n",
              "1         1 days\n",
              "2         4 days\n",
              "3         1 days\n",
              "4         1 days\n",
              "           ...  \n",
              "1166830   2 days\n",
              "1166831   3 days\n",
              "1166832   1 days\n",
              "1166833   3 days\n",
              "1166834   3 days\n",
              "Name: stay, Length: 1166835, dtype: timedelta64[ns]"
            ]
          },
          "metadata": {
            "tags": []
          },
          "execution_count": 26
        }
      ]
    },
    {
      "cell_type": "code",
      "metadata": {
        "id": "UkqGcNZZHdRs"
      },
      "source": [
        "df[\"stay\"] = (df[\"stay\"] / np.timedelta64(1, 'D')).astype(int)"
      ],
      "execution_count": null,
      "outputs": []
    },
    {
      "cell_type": "code",
      "metadata": {
        "colab": {
          "base_uri": "https://localhost:8080/",
          "height": 202
        },
        "id": "UtcodqlUtSIG",
        "outputId": "d3819de7-1d23-4a51-9f22-96f620fe30ae"
      },
      "source": [
        "df.head(5)"
      ],
      "execution_count": null,
      "outputs": [
        {
          "output_type": "execute_result",
          "data": {
            "text/html": [
              "<div>\n",
              "<style scoped>\n",
              "    .dataframe tbody tr th:only-of-type {\n",
              "        vertical-align: middle;\n",
              "    }\n",
              "\n",
              "    .dataframe tbody tr th {\n",
              "        vertical-align: top;\n",
              "    }\n",
              "\n",
              "    .dataframe thead th {\n",
              "        text-align: right;\n",
              "    }\n",
              "</style>\n",
              "<table border=\"1\" class=\"dataframe\">\n",
              "  <thead>\n",
              "    <tr style=\"text-align: right;\">\n",
              "      <th></th>\n",
              "      <th>user_id</th>\n",
              "      <th>checkin</th>\n",
              "      <th>checkout</th>\n",
              "      <th>city_id</th>\n",
              "      <th>device_class</th>\n",
              "      <th>affiliate_id</th>\n",
              "      <th>booker_country</th>\n",
              "      <th>hotel_country</th>\n",
              "      <th>utrip_id</th>\n",
              "      <th>stay</th>\n",
              "    </tr>\n",
              "  </thead>\n",
              "  <tbody>\n",
              "    <tr>\n",
              "      <th>0</th>\n",
              "      <td>1006220</td>\n",
              "      <td>2016-04-09</td>\n",
              "      <td>2016-04-11</td>\n",
              "      <td>31114</td>\n",
              "      <td>0</td>\n",
              "      <td>384</td>\n",
              "      <td>2</td>\n",
              "      <td>60</td>\n",
              "      <td>1006220_1</td>\n",
              "      <td>2</td>\n",
              "    </tr>\n",
              "    <tr>\n",
              "      <th>1</th>\n",
              "      <td>1006220</td>\n",
              "      <td>2016-04-11</td>\n",
              "      <td>2016-04-12</td>\n",
              "      <td>39641</td>\n",
              "      <td>0</td>\n",
              "      <td>384</td>\n",
              "      <td>2</td>\n",
              "      <td>60</td>\n",
              "      <td>1006220_1</td>\n",
              "      <td>1</td>\n",
              "    </tr>\n",
              "    <tr>\n",
              "      <th>2</th>\n",
              "      <td>1006220</td>\n",
              "      <td>2016-04-12</td>\n",
              "      <td>2016-04-16</td>\n",
              "      <td>20232</td>\n",
              "      <td>0</td>\n",
              "      <td>384</td>\n",
              "      <td>2</td>\n",
              "      <td>59</td>\n",
              "      <td>1006220_1</td>\n",
              "      <td>4</td>\n",
              "    </tr>\n",
              "    <tr>\n",
              "      <th>3</th>\n",
              "      <td>1006220</td>\n",
              "      <td>2016-04-16</td>\n",
              "      <td>2016-04-17</td>\n",
              "      <td>24144</td>\n",
              "      <td>0</td>\n",
              "      <td>384</td>\n",
              "      <td>2</td>\n",
              "      <td>60</td>\n",
              "      <td>1006220_1</td>\n",
              "      <td>1</td>\n",
              "    </tr>\n",
              "    <tr>\n",
              "      <th>4</th>\n",
              "      <td>1010293</td>\n",
              "      <td>2016-07-09</td>\n",
              "      <td>2016-07-10</td>\n",
              "      <td>5325</td>\n",
              "      <td>1</td>\n",
              "      <td>359</td>\n",
              "      <td>4</td>\n",
              "      <td>36</td>\n",
              "      <td>1010293_1</td>\n",
              "      <td>1</td>\n",
              "    </tr>\n",
              "  </tbody>\n",
              "</table>\n",
              "</div>"
            ],
            "text/plain": [
              "   user_id    checkin   checkout  ...  hotel_country   utrip_id  stay\n",
              "0  1006220 2016-04-09 2016-04-11  ...             60  1006220_1     2\n",
              "1  1006220 2016-04-11 2016-04-12  ...             60  1006220_1     1\n",
              "2  1006220 2016-04-12 2016-04-16  ...             59  1006220_1     4\n",
              "3  1006220 2016-04-16 2016-04-17  ...             60  1006220_1     1\n",
              "4  1010293 2016-07-09 2016-07-10  ...             36  1010293_1     1\n",
              "\n",
              "[5 rows x 10 columns]"
            ]
          },
          "metadata": {
            "tags": []
          },
          "execution_count": 31
        }
      ]
    },
    {
      "cell_type": "code",
      "metadata": {
        "colab": {
          "base_uri": "https://localhost:8080/",
          "height": 878
        },
        "id": "cQ0V4bXoGM8Q",
        "outputId": "5e84e12f-ccf3-44d5-ebf0-029ceb777611"
      },
      "source": [
        "df.hist(bins=50, figsize=(20,15))\n",
        "plt.show()"
      ],
      "execution_count": null,
      "outputs": [
        {
          "output_type": "display_data",
          "data": {
            "image/png": "[encoded data removed]",
            "text/plain": [
              "<Figure size 1440x1080 with 9 Axes>"
            ]
          },
          "metadata": {
            "tags": [],
            "needs_background": "light"
          }
        }
      ]
    },
    {
      "cell_type": "code",
      "metadata": {
        "id": "A6Orw8KX-icU"
      },
      "source": [
        "obj_columns = df.select_dtypes(include=['object']).columns\n",
        "numb_columns = df.select_dtypes(include=['number']).columns"
      ],
      "execution_count": null,
      "outputs": []
    },
    {
      "cell_type": "code",
      "metadata": {
        "colab": {
          "base_uri": "https://localhost:8080/"
        },
        "id": "3bgcnP1Xtjzo",
        "outputId": "cbbc47d9-b6a5-441e-b2ad-924cad1a36a4"
      },
      "source": [
        "for col in numb_columns:\n",
        "    print('{:15}'.format(col), \n",
        "          'Mean: {:05.2f}'.format(df[col].mean()) , \n",
        "          '   ' ,\n",
        "          'Std: {:05.2f}'.format(df[col].std()) , \n",
        "          '   ' ,\n",
        "          'Skewness: {:05.2f}'.format(df[col].skew()) , \n",
        "          '   ' ,\n",
        "          'Kurtosis: {:06.2f}'.format(df[col].kurt())  \n",
        "         )"
      ],
      "execution_count": null,
      "outputs": [
        {
          "output_type": "stream",
          "text": [
            "user_id         Mean: 3129534.65     Std: 1808044.51     Skewness: 00.00     Kurtosis: -01.20\n",
            "city_id         Mean: 33470.59     Std: 19582.55     Skewness: 00.03     Kurtosis: -01.22\n",
            "device_class    Mean: 00.42     Std: 00.62     Skewness: 01.17     Kurtosis: 000.28\n",
            "affiliate_id    Mean: 5719.50     Std: 3964.43     Skewness: -0.22     Kurtosis: -01.64\n",
            "booker_country  Mean: 02.31     Std: 01.12     Skewness: 00.31     Kurtosis: -00.89\n",
            "hotel_country   Mean: 66.23     Std: 44.45     Skewness: 00.95     Kurtosis: 000.12\n",
            "stay            Mean: 01.74     Std: 01.20     Skewness: 03.35     Kurtosis: 027.57\n"
          ],
          "name": "stdout"
        }
      ]
    },
    {
      "cell_type": "markdown",
      "metadata": {
        "id": "4ubeJcO8v1wK"
      },
      "source": [
        "### 相関行列のヒートマップ（targetはcity_id）"
      ]
    },
    {
      "cell_type": "code",
      "metadata": {
        "colab": {
          "base_uri": "https://localhost:8080/",
          "height": 336
        },
        "id": "OC87C6QrvZxL",
        "outputId": "09a45940-d58e-46b3-b271-c9529709bde1"
      },
      "source": [
        "corr = df.corr()\n",
        "# corr[np.abs(corr) < 0.1] = 0  ## corr<0.1  =>  corr=0 \n",
        "sns.heatmap(corr, annot=True, cmap='YlGnBu')\n",
        "plt.show()"
      ],
      "execution_count": null,
      "outputs": [
        {
          "output_type": "display_data",
          "data": {
            "image/png": "[encoded data removed]",
            "text/plain": [
              "<Figure size 432x288 with 2 Axes>"
            ]
          },
          "metadata": {
            "tags": [],
            "needs_background": "light"
          }
        }
      ]
    },
    {
      "cell_type": "markdown",
      "metadata": {
        "id": "Jdg-V9aSwczY"
      },
      "source": [
        "### 外れ値確認用(city_idに対しての各説明変数のプロット)"
      ]
    },
    {
      "cell_type": "code",
      "metadata": {
        "colab": {
          "base_uri": "https://localhost:8080/",
          "height": 676
        },
        "id": "mbg7HseSwQYs",
        "outputId": "71057186-2b5e-4fdc-e75f-0e6944cf0c86"
      },
      "source": [
        "## plotに時間かかるので注意\n",
        "# numb_df = df[numb_columns]\n",
        "# y_train = df[\"city_id\"]\n",
        "\n",
        "# fig = plt.figure(figsize=(12,7))\n",
        "# for i in np.arange(10):\n",
        "#     ax = fig.add_subplot(3,4,i+1)\n",
        "#     sns.regplot(x=numb_df.iloc[:,i], y=y_train)\n",
        "\n",
        "# plt.tight_layout()\n",
        "# plt.show()"
      ],
      "execution_count": null,
      "outputs": [
        {
          "output_type": "error",
          "ename": "KeyboardInterrupt",
          "evalue": "ignored",
          "traceback": [
            "\u001b[0;31m---------------------------------------------------------------------------\u001b[0m",
            "\u001b[0;31mKeyboardInterrupt\u001b[0m                         Traceback (most recent call last)",
            "\u001b[0;32m<ipython-input-43-06495152c4d9>\u001b[0m in \u001b[0;36m<module>\u001b[0;34m()\u001b[0m\n\u001b[1;32m      5\u001b[0m \u001b[0;32mfor\u001b[0m \u001b[0mi\u001b[0m \u001b[0;32min\u001b[0m \u001b[0mnp\u001b[0m\u001b[0;34m.\u001b[0m\u001b[0marange\u001b[0m\u001b[0;34m(\u001b[0m\u001b[0;36m10\u001b[0m\u001b[0;34m)\u001b[0m\u001b[0;34m:\u001b[0m\u001b[0;34m\u001b[0m\u001b[0;34m\u001b[0m\u001b[0m\n\u001b[1;32m      6\u001b[0m     \u001b[0max\u001b[0m \u001b[0;34m=\u001b[0m \u001b[0mfig\u001b[0m\u001b[0;34m.\u001b[0m\u001b[0madd_subplot\u001b[0m\u001b[0;34m(\u001b[0m\u001b[0;36m3\u001b[0m\u001b[0;34m,\u001b[0m\u001b[0;36m4\u001b[0m\u001b[0;34m,\u001b[0m\u001b[0mi\u001b[0m\u001b[0;34m+\u001b[0m\u001b[0;36m1\u001b[0m\u001b[0;34m)\u001b[0m\u001b[0;34m\u001b[0m\u001b[0;34m\u001b[0m\u001b[0m\n\u001b[0;32m----> 7\u001b[0;31m     \u001b[0msns\u001b[0m\u001b[0;34m.\u001b[0m\u001b[0mregplot\u001b[0m\u001b[0;34m(\u001b[0m\u001b[0mx\u001b[0m\u001b[0;34m=\u001b[0m\u001b[0mnumb_df\u001b[0m\u001b[0;34m.\u001b[0m\u001b[0miloc\u001b[0m\u001b[0;34m[\u001b[0m\u001b[0;34m:\u001b[0m\u001b[0;34m,\u001b[0m\u001b[0mi\u001b[0m\u001b[0;34m]\u001b[0m\u001b[0;34m,\u001b[0m \u001b[0my\u001b[0m\u001b[0;34m=\u001b[0m\u001b[0my_train\u001b[0m\u001b[0;34m)\u001b[0m\u001b[0;34m\u001b[0m\u001b[0;34m\u001b[0m\u001b[0m\n\u001b[0m\u001b[1;32m      8\u001b[0m \u001b[0;34m\u001b[0m\u001b[0m\n\u001b[1;32m      9\u001b[0m \u001b[0mplt\u001b[0m\u001b[0;34m.\u001b[0m\u001b[0mtight_layout\u001b[0m\u001b[0;34m(\u001b[0m\u001b[0;34m)\u001b[0m\u001b[0;34m\u001b[0m\u001b[0;34m\u001b[0m\u001b[0m\n",
            "\u001b[0;32m/usr/local/lib/python3.6/dist-packages/seaborn/_decorators.py\u001b[0m in \u001b[0;36minner_f\u001b[0;34m(*args, **kwargs)\u001b[0m\n\u001b[1;32m     44\u001b[0m             )\n\u001b[1;32m     45\u001b[0m         \u001b[0mkwargs\u001b[0m\u001b[0;34m.\u001b[0m\u001b[0mupdate\u001b[0m\u001b[0;34m(\u001b[0m\u001b[0;34m{\u001b[0m\u001b[0mk\u001b[0m\u001b[0;34m:\u001b[0m \u001b[0marg\u001b[0m \u001b[0;32mfor\u001b[0m \u001b[0mk\u001b[0m\u001b[0;34m,\u001b[0m \u001b[0marg\u001b[0m \u001b[0;32min\u001b[0m \u001b[0mzip\u001b[0m\u001b[0;34m(\u001b[0m\u001b[0msig\u001b[0m\u001b[0;34m.\u001b[0m\u001b[0mparameters\u001b[0m\u001b[0;34m,\u001b[0m \u001b[0margs\u001b[0m\u001b[0;34m)\u001b[0m\u001b[0;34m}\u001b[0m\u001b[0;34m)\u001b[0m\u001b[0;34m\u001b[0m\u001b[0;34m\u001b[0m\u001b[0m\n\u001b[0;32m---> 46\u001b[0;31m         \u001b[0;32mreturn\u001b[0m \u001b[0mf\u001b[0m\u001b[0;34m(\u001b[0m\u001b[0;34m**\u001b[0m\u001b[0mkwargs\u001b[0m\u001b[0;34m)\u001b[0m\u001b[0;34m\u001b[0m\u001b[0;34m\u001b[0m\u001b[0m\n\u001b[0m\u001b[1;32m     47\u001b[0m     \u001b[0;32mreturn\u001b[0m \u001b[0minner_f\u001b[0m\u001b[0;34m\u001b[0m\u001b[0;34m\u001b[0m\u001b[0m\n\u001b[1;32m     48\u001b[0m \u001b[0;34m\u001b[0m\u001b[0m\n",
            "\u001b[0;32m/usr/local/lib/python3.6/dist-packages/seaborn/regression.py\u001b[0m in \u001b[0;36mregplot\u001b[0;34m(x, y, data, x_estimator, x_bins, x_ci, scatter, fit_reg, ci, n_boot, units, seed, order, logistic, lowess, robust, logx, x_partial, y_partial, truncate, dropna, x_jitter, y_jitter, label, color, marker, scatter_kws, line_kws, ax)\u001b[0m\n\u001b[1;32m    833\u001b[0m     \u001b[0mscatter_kws\u001b[0m\u001b[0;34m[\u001b[0m\u001b[0;34m\"marker\"\u001b[0m\u001b[0;34m]\u001b[0m \u001b[0;34m=\u001b[0m \u001b[0mmarker\u001b[0m\u001b[0;34m\u001b[0m\u001b[0;34m\u001b[0m\u001b[0m\n\u001b[1;32m    834\u001b[0m     \u001b[0mline_kws\u001b[0m \u001b[0;34m=\u001b[0m \u001b[0;34m{\u001b[0m\u001b[0;34m}\u001b[0m \u001b[0;32mif\u001b[0m \u001b[0mline_kws\u001b[0m \u001b[0;32mis\u001b[0m \u001b[0;32mNone\u001b[0m \u001b[0;32melse\u001b[0m \u001b[0mcopy\u001b[0m\u001b[0;34m.\u001b[0m\u001b[0mcopy\u001b[0m\u001b[0;34m(\u001b[0m\u001b[0mline_kws\u001b[0m\u001b[0;34m)\u001b[0m\u001b[0;34m\u001b[0m\u001b[0;34m\u001b[0m\u001b[0m\n\u001b[0;32m--> 835\u001b[0;31m     \u001b[0mplotter\u001b[0m\u001b[0;34m.\u001b[0m\u001b[0mplot\u001b[0m\u001b[0;34m(\u001b[0m\u001b[0max\u001b[0m\u001b[0;34m,\u001b[0m \u001b[0mscatter_kws\u001b[0m\u001b[0;34m,\u001b[0m \u001b[0mline_kws\u001b[0m\u001b[0;34m)\u001b[0m\u001b[0;34m\u001b[0m\u001b[0;34m\u001b[0m\u001b[0m\n\u001b[0m\u001b[1;32m    836\u001b[0m     \u001b[0;32mreturn\u001b[0m \u001b[0max\u001b[0m\u001b[0;34m\u001b[0m\u001b[0;34m\u001b[0m\u001b[0m\n\u001b[1;32m    837\u001b[0m \u001b[0;34m\u001b[0m\u001b[0m\n",
            "\u001b[0;32m/usr/local/lib/python3.6/dist-packages/seaborn/regression.py\u001b[0m in \u001b[0;36mplot\u001b[0;34m(self, ax, scatter_kws, line_kws)\u001b[0m\n\u001b[1;32m    368\u001b[0m \u001b[0;34m\u001b[0m\u001b[0m\n\u001b[1;32m    369\u001b[0m         \u001b[0;32mif\u001b[0m \u001b[0mself\u001b[0m\u001b[0;34m.\u001b[0m\u001b[0mfit_reg\u001b[0m\u001b[0;34m:\u001b[0m\u001b[0;34m\u001b[0m\u001b[0;34m\u001b[0m\u001b[0m\n\u001b[0;32m--> 370\u001b[0;31m             \u001b[0mself\u001b[0m\u001b[0;34m.\u001b[0m\u001b[0mlineplot\u001b[0m\u001b[0;34m(\u001b[0m\u001b[0max\u001b[0m\u001b[0;34m,\u001b[0m \u001b[0mline_kws\u001b[0m\u001b[0;34m)\u001b[0m\u001b[0;34m\u001b[0m\u001b[0;34m\u001b[0m\u001b[0m\n\u001b[0m\u001b[1;32m    371\u001b[0m \u001b[0;34m\u001b[0m\u001b[0m\n\u001b[1;32m    372\u001b[0m         \u001b[0;31m# Label the axes\u001b[0m\u001b[0;34m\u001b[0m\u001b[0;34m\u001b[0m\u001b[0;34m\u001b[0m\u001b[0m\n",
            "\u001b[0;32m/usr/local/lib/python3.6/dist-packages/seaborn/regression.py\u001b[0m in \u001b[0;36mlineplot\u001b[0;34m(self, ax, kws)\u001b[0m\n\u001b[1;32m    411\u001b[0m         \u001b[0;34m\"\"\"Draw the model.\"\"\"\u001b[0m\u001b[0;34m\u001b[0m\u001b[0;34m\u001b[0m\u001b[0m\n\u001b[1;32m    412\u001b[0m         \u001b[0;31m# Fit the regression model\u001b[0m\u001b[0;34m\u001b[0m\u001b[0;34m\u001b[0m\u001b[0;34m\u001b[0m\u001b[0m\n\u001b[0;32m--> 413\u001b[0;31m         \u001b[0mgrid\u001b[0m\u001b[0;34m,\u001b[0m \u001b[0myhat\u001b[0m\u001b[0;34m,\u001b[0m \u001b[0merr_bands\u001b[0m \u001b[0;34m=\u001b[0m \u001b[0mself\u001b[0m\u001b[0;34m.\u001b[0m\u001b[0mfit_regression\u001b[0m\u001b[0;34m(\u001b[0m\u001b[0max\u001b[0m\u001b[0;34m)\u001b[0m\u001b[0;34m\u001b[0m\u001b[0;34m\u001b[0m\u001b[0m\n\u001b[0m\u001b[1;32m    414\u001b[0m         \u001b[0medges\u001b[0m \u001b[0;34m=\u001b[0m \u001b[0mgrid\u001b[0m\u001b[0;34m[\u001b[0m\u001b[0;36m0\u001b[0m\u001b[0;34m]\u001b[0m\u001b[0;34m,\u001b[0m \u001b[0mgrid\u001b[0m\u001b[0;34m[\u001b[0m\u001b[0;34m-\u001b[0m\u001b[0;36m1\u001b[0m\u001b[0;34m]\u001b[0m\u001b[0;34m\u001b[0m\u001b[0;34m\u001b[0m\u001b[0m\n\u001b[1;32m    415\u001b[0m \u001b[0;34m\u001b[0m\u001b[0m\n",
            "\u001b[0;32m/usr/local/lib/python3.6/dist-packages/seaborn/regression.py\u001b[0m in \u001b[0;36mfit_regression\u001b[0;34m(self, ax, x_range, grid)\u001b[0m\n\u001b[1;32m    219\u001b[0m             \u001b[0myhat\u001b[0m\u001b[0;34m,\u001b[0m \u001b[0myhat_boots\u001b[0m \u001b[0;34m=\u001b[0m \u001b[0mself\u001b[0m\u001b[0;34m.\u001b[0m\u001b[0mfit_logx\u001b[0m\u001b[0;34m(\u001b[0m\u001b[0mgrid\u001b[0m\u001b[0;34m)\u001b[0m\u001b[0;34m\u001b[0m\u001b[0;34m\u001b[0m\u001b[0m\n\u001b[1;32m    220\u001b[0m         \u001b[0;32melse\u001b[0m\u001b[0;34m:\u001b[0m\u001b[0;34m\u001b[0m\u001b[0;34m\u001b[0m\u001b[0m\n\u001b[0;32m--> 221\u001b[0;31m             \u001b[0myhat\u001b[0m\u001b[0;34m,\u001b[0m \u001b[0myhat_boots\u001b[0m \u001b[0;34m=\u001b[0m \u001b[0mself\u001b[0m\u001b[0;34m.\u001b[0m\u001b[0mfit_fast\u001b[0m\u001b[0;34m(\u001b[0m\u001b[0mgrid\u001b[0m\u001b[0;34m)\u001b[0m\u001b[0;34m\u001b[0m\u001b[0;34m\u001b[0m\u001b[0m\n\u001b[0m\u001b[1;32m    222\u001b[0m \u001b[0;34m\u001b[0m\u001b[0m\n\u001b[1;32m    223\u001b[0m         \u001b[0;31m# Compute the confidence interval at each grid point\u001b[0m\u001b[0;34m\u001b[0m\u001b[0;34m\u001b[0m\u001b[0;34m\u001b[0m\u001b[0m\n",
            "\u001b[0;32m/usr/local/lib/python3.6/dist-packages/seaborn/regression.py\u001b[0m in \u001b[0;36mfit_fast\u001b[0;34m(self, grid)\u001b[0m\n\u001b[1;32m    244\u001b[0m                                     \u001b[0mn_boot\u001b[0m\u001b[0;34m=\u001b[0m\u001b[0mself\u001b[0m\u001b[0;34m.\u001b[0m\u001b[0mn_boot\u001b[0m\u001b[0;34m,\u001b[0m\u001b[0;34m\u001b[0m\u001b[0;34m\u001b[0m\u001b[0m\n\u001b[1;32m    245\u001b[0m                                     \u001b[0munits\u001b[0m\u001b[0;34m=\u001b[0m\u001b[0mself\u001b[0m\u001b[0;34m.\u001b[0m\u001b[0munits\u001b[0m\u001b[0;34m,\u001b[0m\u001b[0;34m\u001b[0m\u001b[0;34m\u001b[0m\u001b[0m\n\u001b[0;32m--> 246\u001b[0;31m                                     seed=self.seed).T\n\u001b[0m\u001b[1;32m    247\u001b[0m         \u001b[0myhat_boots\u001b[0m \u001b[0;34m=\u001b[0m \u001b[0mgrid\u001b[0m\u001b[0;34m.\u001b[0m\u001b[0mdot\u001b[0m\u001b[0;34m(\u001b[0m\u001b[0mbeta_boots\u001b[0m\u001b[0;34m)\u001b[0m\u001b[0;34m.\u001b[0m\u001b[0mT\u001b[0m\u001b[0;34m\u001b[0m\u001b[0;34m\u001b[0m\u001b[0m\n\u001b[1;32m    248\u001b[0m         \u001b[0;32mreturn\u001b[0m \u001b[0myhat\u001b[0m\u001b[0;34m,\u001b[0m \u001b[0myhat_boots\u001b[0m\u001b[0;34m\u001b[0m\u001b[0;34m\u001b[0m\u001b[0m\n",
            "\u001b[0;32m/usr/local/lib/python3.6/dist-packages/seaborn/algorithms.py\u001b[0m in \u001b[0;36mbootstrap\u001b[0;34m(*args, **kwargs)\u001b[0m\n\u001b[1;32m     82\u001b[0m     \u001b[0;32mfor\u001b[0m \u001b[0mi\u001b[0m \u001b[0;32min\u001b[0m \u001b[0mrange\u001b[0m\u001b[0;34m(\u001b[0m\u001b[0mint\u001b[0m\u001b[0;34m(\u001b[0m\u001b[0mn_boot\u001b[0m\u001b[0;34m)\u001b[0m\u001b[0;34m)\u001b[0m\u001b[0;34m:\u001b[0m\u001b[0;34m\u001b[0m\u001b[0;34m\u001b[0m\u001b[0m\n\u001b[1;32m     83\u001b[0m         \u001b[0mresampler\u001b[0m \u001b[0;34m=\u001b[0m \u001b[0mintegers\u001b[0m\u001b[0;34m(\u001b[0m\u001b[0;36m0\u001b[0m\u001b[0;34m,\u001b[0m \u001b[0mn\u001b[0m\u001b[0;34m,\u001b[0m \u001b[0mn\u001b[0m\u001b[0;34m,\u001b[0m \u001b[0mdtype\u001b[0m\u001b[0;34m=\u001b[0m\u001b[0mnp\u001b[0m\u001b[0;34m.\u001b[0m\u001b[0mintp\u001b[0m\u001b[0;34m)\u001b[0m  \u001b[0;31m# intp is indexing dtype\u001b[0m\u001b[0;34m\u001b[0m\u001b[0;34m\u001b[0m\u001b[0m\n\u001b[0;32m---> 84\u001b[0;31m         \u001b[0msample\u001b[0m \u001b[0;34m=\u001b[0m \u001b[0;34m[\u001b[0m\u001b[0ma\u001b[0m\u001b[0;34m.\u001b[0m\u001b[0mtake\u001b[0m\u001b[0;34m(\u001b[0m\u001b[0mresampler\u001b[0m\u001b[0;34m,\u001b[0m \u001b[0maxis\u001b[0m\u001b[0;34m=\u001b[0m\u001b[0;36m0\u001b[0m\u001b[0;34m)\u001b[0m \u001b[0;32mfor\u001b[0m \u001b[0ma\u001b[0m \u001b[0;32min\u001b[0m \u001b[0margs\u001b[0m\u001b[0;34m]\u001b[0m\u001b[0;34m\u001b[0m\u001b[0;34m\u001b[0m\u001b[0m\n\u001b[0m\u001b[1;32m     85\u001b[0m         \u001b[0mboot_dist\u001b[0m\u001b[0;34m.\u001b[0m\u001b[0mappend\u001b[0m\u001b[0;34m(\u001b[0m\u001b[0mf\u001b[0m\u001b[0;34m(\u001b[0m\u001b[0;34m*\u001b[0m\u001b[0msample\u001b[0m\u001b[0;34m,\u001b[0m \u001b[0;34m**\u001b[0m\u001b[0mfunc_kwargs\u001b[0m\u001b[0;34m)\u001b[0m\u001b[0;34m)\u001b[0m\u001b[0;34m\u001b[0m\u001b[0;34m\u001b[0m\u001b[0m\n\u001b[1;32m     86\u001b[0m     \u001b[0;32mreturn\u001b[0m \u001b[0mnp\u001b[0m\u001b[0;34m.\u001b[0m\u001b[0marray\u001b[0m\u001b[0;34m(\u001b[0m\u001b[0mboot_dist\u001b[0m\u001b[0;34m)\u001b[0m\u001b[0;34m\u001b[0m\u001b[0;34m\u001b[0m\u001b[0m\n",
            "\u001b[0;32m/usr/local/lib/python3.6/dist-packages/seaborn/algorithms.py\u001b[0m in \u001b[0;36m<listcomp>\u001b[0;34m(.0)\u001b[0m\n\u001b[1;32m     82\u001b[0m     \u001b[0;32mfor\u001b[0m \u001b[0mi\u001b[0m \u001b[0;32min\u001b[0m \u001b[0mrange\u001b[0m\u001b[0;34m(\u001b[0m\u001b[0mint\u001b[0m\u001b[0;34m(\u001b[0m\u001b[0mn_boot\u001b[0m\u001b[0;34m)\u001b[0m\u001b[0;34m)\u001b[0m\u001b[0;34m:\u001b[0m\u001b[0;34m\u001b[0m\u001b[0;34m\u001b[0m\u001b[0m\n\u001b[1;32m     83\u001b[0m         \u001b[0mresampler\u001b[0m \u001b[0;34m=\u001b[0m \u001b[0mintegers\u001b[0m\u001b[0;34m(\u001b[0m\u001b[0;36m0\u001b[0m\u001b[0;34m,\u001b[0m \u001b[0mn\u001b[0m\u001b[0;34m,\u001b[0m \u001b[0mn\u001b[0m\u001b[0;34m,\u001b[0m \u001b[0mdtype\u001b[0m\u001b[0;34m=\u001b[0m\u001b[0mnp\u001b[0m\u001b[0;34m.\u001b[0m\u001b[0mintp\u001b[0m\u001b[0;34m)\u001b[0m  \u001b[0;31m# intp is indexing dtype\u001b[0m\u001b[0;34m\u001b[0m\u001b[0;34m\u001b[0m\u001b[0m\n\u001b[0;32m---> 84\u001b[0;31m         \u001b[0msample\u001b[0m \u001b[0;34m=\u001b[0m \u001b[0;34m[\u001b[0m\u001b[0ma\u001b[0m\u001b[0;34m.\u001b[0m\u001b[0mtake\u001b[0m\u001b[0;34m(\u001b[0m\u001b[0mresampler\u001b[0m\u001b[0;34m,\u001b[0m \u001b[0maxis\u001b[0m\u001b[0;34m=\u001b[0m\u001b[0;36m0\u001b[0m\u001b[0;34m)\u001b[0m \u001b[0;32mfor\u001b[0m \u001b[0ma\u001b[0m \u001b[0;32min\u001b[0m \u001b[0margs\u001b[0m\u001b[0;34m]\u001b[0m\u001b[0;34m\u001b[0m\u001b[0;34m\u001b[0m\u001b[0m\n\u001b[0m\u001b[1;32m     85\u001b[0m         \u001b[0mboot_dist\u001b[0m\u001b[0;34m.\u001b[0m\u001b[0mappend\u001b[0m\u001b[0;34m(\u001b[0m\u001b[0mf\u001b[0m\u001b[0;34m(\u001b[0m\u001b[0;34m*\u001b[0m\u001b[0msample\u001b[0m\u001b[0;34m,\u001b[0m \u001b[0;34m**\u001b[0m\u001b[0mfunc_kwargs\u001b[0m\u001b[0;34m)\u001b[0m\u001b[0;34m)\u001b[0m\u001b[0;34m\u001b[0m\u001b[0;34m\u001b[0m\u001b[0m\n\u001b[1;32m     86\u001b[0m     \u001b[0;32mreturn\u001b[0m \u001b[0mnp\u001b[0m\u001b[0;34m.\u001b[0m\u001b[0marray\u001b[0m\u001b[0;34m(\u001b[0m\u001b[0mboot_dist\u001b[0m\u001b[0;34m)\u001b[0m\u001b[0;34m\u001b[0m\u001b[0;34m\u001b[0m\u001b[0m\n",
            "\u001b[0;31mKeyboardInterrupt\u001b[0m: "
          ]
        },
        {
          "output_type": "display_data",
          "data": {
            "image/png": "[encoded data removed]",
            "text/plain": [
              "<Figure size 864x504 with 6 Axes>"
            ]
          },
          "metadata": {
            "tags": [],
            "needs_background": "light"
          }
        }
      ]
    },
    {
      "cell_type": "code",
      "metadata": {
        "id": "nLHyUrDyw0Ud"
      },
      "source": [
        ""
      ],
      "execution_count": null,
      "outputs": []
    }
  ]
}